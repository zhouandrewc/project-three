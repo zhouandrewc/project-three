{
 "cells": [
  {
   "cell_type": "code",
   "execution_count": 215,
   "metadata": {
    "ExecuteTime": {
     "end_time": "2020-10-19T03:01:08.531498Z",
     "start_time": "2020-10-19T03:01:07.224379Z"
    }
   },
   "outputs": [],
   "source": [
    "import pandas as pd\n",
    "import numpy as np\n",
    "\n",
    "from sklearn.model_selection import train_test_split, StratifiedKFold\n",
    "from sklearn.linear_model import LogisticRegressionCV\n",
    "from sklearn.preprocessing import StandardScaler\n",
    "import matplotlib.pyplot as plt\n",
    "\n",
    "from sklearn.model_selection import train_test_split\n",
    "from sklearn.metrics import plot_confusion_matrix\n"
   ]
  },
  {
   "cell_type": "code",
   "execution_count": 134,
   "metadata": {
    "ExecuteTime": {
     "end_time": "2020-10-19T02:23:54.126390Z",
     "start_time": "2020-10-19T02:23:53.807718Z"
    }
   },
   "outputs": [],
   "source": [
    "assess = pd.read_csv(\"processing/CDS2002/ASSESSMT.csv\")\n",
    "child = pd.read_csv(\"processing/CDS2002/CHILD.csv\")\n",
    "pcg = pd.read_csv(\"processing/CDS2002/PCG_CHLD.csv\") \n",
    "wealth = pd.read_csv(\"processing/wlth2001/WLTH2001.csv\")"
   ]
  },
  {
   "cell_type": "code",
   "execution_count": 135,
   "metadata": {
    "ExecuteTime": {
     "end_time": "2020-10-19T02:24:09.885911Z",
     "start_time": "2020-10-19T02:23:54.282332Z"
    }
   },
   "outputs": [],
   "source": [
    "fam01 = pd.read_csv(\"processing/fam2001er/FAM2001ER.csv\")\n",
    "ind = pd.read_csv(\"processing/ind2017er/IND2017ER.csv\")"
   ]
  },
  {
   "cell_type": "code",
   "execution_count": 136,
   "metadata": {
    "ExecuteTime": {
     "end_time": "2020-10-19T02:24:10.122866Z",
     "start_time": "2020-10-19T02:24:10.108880Z"
    }
   },
   "outputs": [
    {
     "data": {
      "text/html": [
       "<div>\n",
       "<style scoped>\n",
       "    .dataframe tbody tr th:only-of-type {\n",
       "        vertical-align: middle;\n",
       "    }\n",
       "\n",
       "    .dataframe tbody tr th {\n",
       "        vertical-align: top;\n",
       "    }\n",
       "\n",
       "    .dataframe thead th {\n",
       "        text-align: right;\n",
       "    }\n",
       "</style>\n",
       "<table border=\"1\" class=\"dataframe\">\n",
       "  <thead>\n",
       "    <tr style=\"text-align: right;\">\n",
       "      <th></th>\n",
       "      <th>Unnamed: 0</th>\n",
       "      <th>ER17001</th>\n",
       "      <th>ER17002</th>\n",
       "      <th>ER17003</th>\n",
       "      <th>ER17004</th>\n",
       "      <th>ER17005</th>\n",
       "      <th>ER17005B</th>\n",
       "      <th>ER17005C</th>\n",
       "      <th>ER17006</th>\n",
       "      <th>ER17007</th>\n",
       "      <th>...</th>\n",
       "      <th>ER20458</th>\n",
       "      <th>ER20458A</th>\n",
       "      <th>ER20458B</th>\n",
       "      <th>ER20458C</th>\n",
       "      <th>ER20458D</th>\n",
       "      <th>ER20458E</th>\n",
       "      <th>ER20458F</th>\n",
       "      <th>ER20458G</th>\n",
       "      <th>ER20458H</th>\n",
       "      <th>ER20459</th>\n",
       "    </tr>\n",
       "  </thead>\n",
       "  <tbody>\n",
       "    <tr>\n",
       "      <th>0</th>\n",
       "      <td>0</td>\n",
       "      <td>6</td>\n",
       "      <td>1</td>\n",
       "      <td>2280</td>\n",
       "      <td>9</td>\n",
       "      <td>12</td>\n",
       "      <td>54</td>\n",
       "      <td>1</td>\n",
       "      <td>1</td>\n",
       "      <td>0</td>\n",
       "      <td>...</td>\n",
       "      <td>0</td>\n",
       "      <td>9</td>\n",
       "      <td>9</td>\n",
       "      <td>9</td>\n",
       "      <td>9</td>\n",
       "      <td>9</td>\n",
       "      <td>9</td>\n",
       "      <td>9</td>\n",
       "      <td>9</td>\n",
       "      <td>27473</td>\n",
       "    </tr>\n",
       "    <tr>\n",
       "      <th>1</th>\n",
       "      <td>1</td>\n",
       "      <td>6</td>\n",
       "      <td>2</td>\n",
       "      <td>2280</td>\n",
       "      <td>9</td>\n",
       "      <td>12</td>\n",
       "      <td>61</td>\n",
       "      <td>1</td>\n",
       "      <td>1</td>\n",
       "      <td>0</td>\n",
       "      <td>...</td>\n",
       "      <td>12</td>\n",
       "      <td>9</td>\n",
       "      <td>9</td>\n",
       "      <td>9</td>\n",
       "      <td>9</td>\n",
       "      <td>9</td>\n",
       "      <td>9</td>\n",
       "      <td>9</td>\n",
       "      <td>9</td>\n",
       "      <td>46353</td>\n",
       "    </tr>\n",
       "    <tr>\n",
       "      <th>2</th>\n",
       "      <td>2</td>\n",
       "      <td>6</td>\n",
       "      <td>3</td>\n",
       "      <td>2515</td>\n",
       "      <td>32</td>\n",
       "      <td>37</td>\n",
       "      <td>54</td>\n",
       "      <td>3</td>\n",
       "      <td>1</td>\n",
       "      <td>1</td>\n",
       "      <td>...</td>\n",
       "      <td>0</td>\n",
       "      <td>9</td>\n",
       "      <td>9</td>\n",
       "      <td>9</td>\n",
       "      <td>9</td>\n",
       "      <td>1</td>\n",
       "      <td>9</td>\n",
       "      <td>9</td>\n",
       "      <td>9</td>\n",
       "      <td>1957</td>\n",
       "    </tr>\n",
       "    <tr>\n",
       "      <th>3</th>\n",
       "      <td>3</td>\n",
       "      <td>6</td>\n",
       "      <td>4</td>\n",
       "      <td>2515</td>\n",
       "      <td>32</td>\n",
       "      <td>37</td>\n",
       "      <td>79</td>\n",
       "      <td>3</td>\n",
       "      <td>1</td>\n",
       "      <td>0</td>\n",
       "      <td>...</td>\n",
       "      <td>12</td>\n",
       "      <td>0</td>\n",
       "      <td>0</td>\n",
       "      <td>0</td>\n",
       "      <td>0</td>\n",
       "      <td>0</td>\n",
       "      <td>0</td>\n",
       "      <td>0</td>\n",
       "      <td>1</td>\n",
       "      <td>2014</td>\n",
       "    </tr>\n",
       "    <tr>\n",
       "      <th>4</th>\n",
       "      <td>4</td>\n",
       "      <td>6</td>\n",
       "      <td>5</td>\n",
       "      <td>2515</td>\n",
       "      <td>32</td>\n",
       "      <td>37</td>\n",
       "      <td>58</td>\n",
       "      <td>2</td>\n",
       "      <td>1</td>\n",
       "      <td>1</td>\n",
       "      <td>...</td>\n",
       "      <td>8</td>\n",
       "      <td>0</td>\n",
       "      <td>9</td>\n",
       "      <td>0</td>\n",
       "      <td>9</td>\n",
       "      <td>0</td>\n",
       "      <td>9</td>\n",
       "      <td>0</td>\n",
       "      <td>9</td>\n",
       "      <td>1181</td>\n",
       "    </tr>\n",
       "    <tr>\n",
       "      <th>...</th>\n",
       "      <td>...</td>\n",
       "      <td>...</td>\n",
       "      <td>...</td>\n",
       "      <td>...</td>\n",
       "      <td>...</td>\n",
       "      <td>...</td>\n",
       "      <td>...</td>\n",
       "      <td>...</td>\n",
       "      <td>...</td>\n",
       "      <td>...</td>\n",
       "      <td>...</td>\n",
       "      <td>...</td>\n",
       "      <td>...</td>\n",
       "      <td>...</td>\n",
       "      <td>...</td>\n",
       "      <td>...</td>\n",
       "      <td>...</td>\n",
       "      <td>...</td>\n",
       "      <td>...</td>\n",
       "      <td>...</td>\n",
       "      <td>...</td>\n",
       "    </tr>\n",
       "    <tr>\n",
       "      <th>7401</th>\n",
       "      <td>7401</td>\n",
       "      <td>6</td>\n",
       "      <td>7453</td>\n",
       "      <td>8703</td>\n",
       "      <td>19</td>\n",
       "      <td>24</td>\n",
       "      <td>60</td>\n",
       "      <td>10</td>\n",
       "      <td>2</td>\n",
       "      <td>2</td>\n",
       "      <td>...</td>\n",
       "      <td>0</td>\n",
       "      <td>0</td>\n",
       "      <td>9</td>\n",
       "      <td>0</td>\n",
       "      <td>9</td>\n",
       "      <td>0</td>\n",
       "      <td>9</td>\n",
       "      <td>0</td>\n",
       "      <td>9</td>\n",
       "      <td>4382</td>\n",
       "    </tr>\n",
       "    <tr>\n",
       "      <th>7402</th>\n",
       "      <td>7402</td>\n",
       "      <td>6</td>\n",
       "      <td>7454</td>\n",
       "      <td>4970</td>\n",
       "      <td>50</td>\n",
       "      <td>2</td>\n",
       "      <td>59</td>\n",
       "      <td>93</td>\n",
       "      <td>1</td>\n",
       "      <td>2</td>\n",
       "      <td>...</td>\n",
       "      <td>0</td>\n",
       "      <td>0</td>\n",
       "      <td>9</td>\n",
       "      <td>0</td>\n",
       "      <td>0</td>\n",
       "      <td>0</td>\n",
       "      <td>9</td>\n",
       "      <td>0</td>\n",
       "      <td>0</td>\n",
       "      <td>10850</td>\n",
       "    </tr>\n",
       "    <tr>\n",
       "      <th>7403</th>\n",
       "      <td>7403</td>\n",
       "      <td>6</td>\n",
       "      <td>7455</td>\n",
       "      <td>8703</td>\n",
       "      <td>29</td>\n",
       "      <td>34</td>\n",
       "      <td>123</td>\n",
       "      <td>63</td>\n",
       "      <td>2</td>\n",
       "      <td>5</td>\n",
       "      <td>...</td>\n",
       "      <td>0</td>\n",
       "      <td>0</td>\n",
       "      <td>9</td>\n",
       "      <td>0</td>\n",
       "      <td>0</td>\n",
       "      <td>0</td>\n",
       "      <td>9</td>\n",
       "      <td>0</td>\n",
       "      <td>0</td>\n",
       "      <td>4144</td>\n",
       "    </tr>\n",
       "    <tr>\n",
       "      <th>7404</th>\n",
       "      <td>7404</td>\n",
       "      <td>6</td>\n",
       "      <td>7456</td>\n",
       "      <td>4970</td>\n",
       "      <td>13</td>\n",
       "      <td>18</td>\n",
       "      <td>29</td>\n",
       "      <td>28</td>\n",
       "      <td>2</td>\n",
       "      <td>2</td>\n",
       "      <td>...</td>\n",
       "      <td>0</td>\n",
       "      <td>0</td>\n",
       "      <td>9</td>\n",
       "      <td>0</td>\n",
       "      <td>9</td>\n",
       "      <td>0</td>\n",
       "      <td>9</td>\n",
       "      <td>0</td>\n",
       "      <td>9</td>\n",
       "      <td>24876</td>\n",
       "    </tr>\n",
       "    <tr>\n",
       "      <th>7405</th>\n",
       "      <td>7405</td>\n",
       "      <td>6</td>\n",
       "      <td>7457</td>\n",
       "      <td>3512</td>\n",
       "      <td>1</td>\n",
       "      <td>1</td>\n",
       "      <td>51</td>\n",
       "      <td>14</td>\n",
       "      <td>2</td>\n",
       "      <td>5</td>\n",
       "      <td>...</td>\n",
       "      <td>99</td>\n",
       "      <td>0</td>\n",
       "      <td>9</td>\n",
       "      <td>0</td>\n",
       "      <td>9</td>\n",
       "      <td>0</td>\n",
       "      <td>9</td>\n",
       "      <td>0</td>\n",
       "      <td>9</td>\n",
       "      <td>2310</td>\n",
       "    </tr>\n",
       "  </tbody>\n",
       "</table>\n",
       "<p>7406 rows × 3534 columns</p>\n",
       "</div>"
      ],
      "text/plain": [
       "      Unnamed: 0  ER17001  ER17002  ER17003  ER17004  ER17005  ER17005B  \\\n",
       "0              0        6        1     2280        9       12        54   \n",
       "1              1        6        2     2280        9       12        61   \n",
       "2              2        6        3     2515       32       37        54   \n",
       "3              3        6        4     2515       32       37        79   \n",
       "4              4        6        5     2515       32       37        58   \n",
       "...          ...      ...      ...      ...      ...      ...       ...   \n",
       "7401        7401        6     7453     8703       19       24        60   \n",
       "7402        7402        6     7454     4970       50        2        59   \n",
       "7403        7403        6     7455     8703       29       34       123   \n",
       "7404        7404        6     7456     4970       13       18        29   \n",
       "7405        7405        6     7457     3512        1        1        51   \n",
       "\n",
       "      ER17005C  ER17006  ER17007  ...  ER20458  ER20458A  ER20458B  ER20458C  \\\n",
       "0            1        1        0  ...        0         9         9         9   \n",
       "1            1        1        0  ...       12         9         9         9   \n",
       "2            3        1        1  ...        0         9         9         9   \n",
       "3            3        1        0  ...       12         0         0         0   \n",
       "4            2        1        1  ...        8         0         9         0   \n",
       "...        ...      ...      ...  ...      ...       ...       ...       ...   \n",
       "7401        10        2        2  ...        0         0         9         0   \n",
       "7402        93        1        2  ...        0         0         9         0   \n",
       "7403        63        2        5  ...        0         0         9         0   \n",
       "7404        28        2        2  ...        0         0         9         0   \n",
       "7405        14        2        5  ...       99         0         9         0   \n",
       "\n",
       "      ER20458D  ER20458E  ER20458F  ER20458G  ER20458H  ER20459  \n",
       "0            9         9         9         9         9    27473  \n",
       "1            9         9         9         9         9    46353  \n",
       "2            9         1         9         9         9     1957  \n",
       "3            0         0         0         0         1     2014  \n",
       "4            9         0         9         0         9     1181  \n",
       "...        ...       ...       ...       ...       ...      ...  \n",
       "7401         9         0         9         0         9     4382  \n",
       "7402         0         0         9         0         0    10850  \n",
       "7403         0         0         9         0         0     4144  \n",
       "7404         9         0         9         0         9    24876  \n",
       "7405         9         0         9         0         9     2310  \n",
       "\n",
       "[7406 rows x 3534 columns]"
      ]
     },
     "execution_count": 136,
     "metadata": {},
     "output_type": "execute_result"
    }
   ],
   "source": [
    "fam01"
   ]
  },
  {
   "cell_type": "code",
   "execution_count": 158,
   "metadata": {
    "ExecuteTime": {
     "end_time": "2020-10-19T02:35:24.194595Z",
     "start_time": "2020-10-19T02:35:24.176869Z"
    }
   },
   "outputs": [],
   "source": [
    "assess_cl = assess[[\"ASMTID01\", \"ASMTSN01\", \"Q24LWPR\", \"Q24APPR\"]].rename({\"ASMTID01\": \"fam_id01\", \"ASMTSN01\": \"ind_id01\", \"Q24LWPR\": \"read_score\", \"Q24APPR\": \"math_score\"}, axis=1)\n",
    "child_cl = child[[\"CHLDID01\", \"CHLDSN01\", \"Q23J1\"]].rename({\"CHLDID01\": \"fam_id01\", \"CHLDSN01\": \"ind_id01\", \"Q23J1\": \"race_code\"}, axis=1)\n",
    "ind_cl = ind[[\"ER33601\", \"ER33638\", \"ER33602\", \"ER34504\", \"ER34530\", \"ER34533\", \"ER34534\"]].rename({\"ER33601\": \"fam_id01\", \"ER33602\": \"ind_id01\", \"ER34504\": \"age_2017\", \"ER34534\": \"college_degree\"}, axis=1)\n",
    "wealth_cl = wealth[[\"S501\", \"S516\", \"S517\"]].rename({\"S501\": \"fam_id01\", \"S517\": \"wealth_w_eq\"}, axis=1)\n",
    "fam01_cl = fam01[[\"ER17002\", \"ER17004\", \"ER18470T\", \"ER20377C\", \"ER18470U\", \"ER20456\"]].rename({\"ER17002\": \"fam_id01\", \"ER20456\": \"fam_income\", \"ER20377C\": \"urban_rural\"}, axis=1)\n",
    "# 2001 family id\n",
    "ind_cds = ind_cl[ind_cl[\"ER33638\"] == 1]"
   ]
  },
  {
   "cell_type": "code",
   "execution_count": 159,
   "metadata": {
    "ExecuteTime": {
     "end_time": "2020-10-19T02:35:24.874428Z",
     "start_time": "2020-10-19T02:35:24.872553Z"
    }
   },
   "outputs": [],
   "source": [
    "# get all individuals who participated in the cds in 2001 & responded in 2017\n",
    "# get their 2001 interview & 2001 sequence codes"
   ]
  },
  {
   "cell_type": "code",
   "execution_count": 160,
   "metadata": {
    "ExecuteTime": {
     "end_time": "2020-10-19T02:35:26.599959Z",
     "start_time": "2020-10-19T02:35:26.582402Z"
    }
   },
   "outputs": [],
   "source": [
    "temp1 = ind_cds.merge(child_cl, on=[\"fam_id01\", \"ind_id01\"], how=\"left\")\n",
    "temp2 = temp1.merge(assess_cl, on=[\"fam_id01\", \"ind_id01\"], how=\"left\")\n",
    "temp3 = temp2.merge(fam01_cl, on=\"fam_id01\", how=\"left\")\n",
    "df = temp3.merge(wealth_cl, on=\"fam_id01\", how=\"left\")\n",
    "df = df[(df[\"age_2017\"] > 24)]"
   ]
  },
  {
   "cell_type": "code",
   "execution_count": 161,
   "metadata": {
    "ExecuteTime": {
     "end_time": "2020-10-19T02:35:27.421088Z",
     "start_time": "2020-10-19T02:35:27.416220Z"
    }
   },
   "outputs": [
    {
     "data": {
      "text/plain": [
       "30    199\n",
       "27    192\n",
       "25    190\n",
       "31    180\n",
       "29    179\n",
       "26    179\n",
       "28    170\n",
       "32    153\n",
       "33     45\n",
       "Name: age_2017, dtype: int64"
      ]
     },
     "execution_count": 161,
     "metadata": {},
     "output_type": "execute_result"
    }
   ],
   "source": [
    "# degree: 1 yes, 5 no\n",
    "df[\"age_2017\"].value_counts()"
   ]
  },
  {
   "cell_type": "code",
   "execution_count": 174,
   "metadata": {
    "ExecuteTime": {
     "end_time": "2020-10-19T02:37:51.130041Z",
     "start_time": "2020-10-19T02:37:51.126852Z"
    }
   },
   "outputs": [],
   "source": [
    "data_df = pd.DataFrame(df[[\"race_code\", \"read_score\", \"math_score\", \"urban_rural\", \"fam_income\", \"wealth_w_eq\", \"college_degree\"]])"
   ]
  },
  {
   "cell_type": "code",
   "execution_count": 179,
   "metadata": {
    "ExecuteTime": {
     "end_time": "2020-10-19T02:40:40.632574Z",
     "start_time": "2020-10-19T02:40:40.626545Z"
    }
   },
   "outputs": [],
   "source": [
    "def get_race(num):\n",
    "    if num == 1:\n",
    "        return \"black\"\n",
    "    elif num == 2:\n",
    "        return \"white\"\n",
    "    elif num==3:\n",
    "        return \"hispanic\"\n",
    "    elif num==4:\n",
    "        return \"asian\"\n",
    "    elif num==6:\n",
    "        return \"multi\"\n",
    "    else:\n",
    "        return None\n",
    "    \n",
    "def get_urb_rur(num):\n",
    "    if num==1:\n",
    "        return \"central_metro_1mil\"\n",
    "    elif num==2:\n",
    "        return \"fringe_metro_1mil\"\n",
    "    elif num==3:\n",
    "        return \"county_metro_250k\"\n",
    "    elif num==4:\n",
    "        return \"country_metro_less\"\n",
    "    elif num==5:\n",
    "        return \"urb_pop_20k_adj_met\"\n",
    "    elif num==6:\n",
    "        return \"urb_pop_20k_nonadj_met\"\n",
    "    elif num==7:\n",
    "        return \"urb_pop_less_adj_met\"\n",
    "    elif num==8:\n",
    "        return \"urb_pop_less_nonadj_met\"\n",
    "    elif num==9:\n",
    "        return \"rural\"\n",
    "    else:\n",
    "        return None\n",
    "    \n",
    "def get_urb_rur_bin(num):\n",
    "    if num == 1 or num == 2 or num ==3 or num == 4:\n",
    "        return \"met\"\n",
    "    elif num == 5 or num == 6 or num == 7 or num == 8:\n",
    "        return \"urb\"\n",
    "    elif num == 9:\n",
    "        return \"rural\"\n",
    "    else:\n",
    "        return None\n",
    "    \n",
    "def college_grad(num):\n",
    "    if num == 1:\n",
    "        return \"yes\"\n",
    "    else:\n",
    "        return \"no\""
   ]
  },
  {
   "cell_type": "code",
   "execution_count": 180,
   "metadata": {
    "ExecuteTime": {
     "end_time": "2020-10-19T02:40:42.004394Z",
     "start_time": "2020-10-19T02:40:41.998395Z"
    }
   },
   "outputs": [],
   "source": [
    "data_df[\"race\"] = list(map(get_race, data_df[\"race_code\"]))\n",
    "data_df[\"urb_rur1\"] = list(map(get_urb_rur, data_df[\"urban_rural\"]))\n",
    "data_df[\"urb_rur2\"] = list(map(get_urb_rur_bin, data_df[\"urban_rural\"]))\n",
    "data_df[\"college_grad\"] = list(map(college_grad, data_df[\"college_degree\"]))"
   ]
  },
  {
   "cell_type": "code",
   "execution_count": 181,
   "metadata": {
    "ExecuteTime": {
     "end_time": "2020-10-19T02:40:42.846205Z",
     "start_time": "2020-10-19T02:40:42.830429Z"
    }
   },
   "outputs": [
    {
     "data": {
      "text/html": [
       "<div>\n",
       "<style scoped>\n",
       "    .dataframe tbody tr th:only-of-type {\n",
       "        vertical-align: middle;\n",
       "    }\n",
       "\n",
       "    .dataframe tbody tr th {\n",
       "        vertical-align: top;\n",
       "    }\n",
       "\n",
       "    .dataframe thead th {\n",
       "        text-align: right;\n",
       "    }\n",
       "</style>\n",
       "<table border=\"1\" class=\"dataframe\">\n",
       "  <thead>\n",
       "    <tr style=\"text-align: right;\">\n",
       "      <th></th>\n",
       "      <th>race_code</th>\n",
       "      <th>read_score</th>\n",
       "      <th>math_score</th>\n",
       "      <th>urban_rural</th>\n",
       "      <th>fam_income</th>\n",
       "      <th>wealth_w_eq</th>\n",
       "      <th>college_degree</th>\n",
       "      <th>race</th>\n",
       "      <th>urb_rur1</th>\n",
       "      <th>urb_rur2</th>\n",
       "      <th>college_grad</th>\n",
       "    </tr>\n",
       "  </thead>\n",
       "  <tbody>\n",
       "    <tr>\n",
       "      <th>0</th>\n",
       "      <td>2.0</td>\n",
       "      <td>25.0</td>\n",
       "      <td>30.0</td>\n",
       "      <td>7</td>\n",
       "      <td>50880</td>\n",
       "      <td>113050</td>\n",
       "      <td>0</td>\n",
       "      <td>white</td>\n",
       "      <td>urb_pop_less_adj_met</td>\n",
       "      <td>urb</td>\n",
       "      <td>no</td>\n",
       "    </tr>\n",
       "    <tr>\n",
       "      <th>1</th>\n",
       "      <td>0.0</td>\n",
       "      <td>3.0</td>\n",
       "      <td>2.0</td>\n",
       "      <td>7</td>\n",
       "      <td>37760</td>\n",
       "      <td>11500</td>\n",
       "      <td>0</td>\n",
       "      <td>None</td>\n",
       "      <td>urb_pop_less_adj_met</td>\n",
       "      <td>urb</td>\n",
       "      <td>no</td>\n",
       "    </tr>\n",
       "    <tr>\n",
       "      <th>5</th>\n",
       "      <td>2.0</td>\n",
       "      <td>1.0</td>\n",
       "      <td>8.0</td>\n",
       "      <td>3</td>\n",
       "      <td>16735</td>\n",
       "      <td>48700</td>\n",
       "      <td>0</td>\n",
       "      <td>white</td>\n",
       "      <td>county_metro_250k</td>\n",
       "      <td>met</td>\n",
       "      <td>no</td>\n",
       "    </tr>\n",
       "    <tr>\n",
       "      <th>6</th>\n",
       "      <td>2.0</td>\n",
       "      <td>16.0</td>\n",
       "      <td>24.0</td>\n",
       "      <td>3</td>\n",
       "      <td>16735</td>\n",
       "      <td>48700</td>\n",
       "      <td>0</td>\n",
       "      <td>white</td>\n",
       "      <td>county_metro_250k</td>\n",
       "      <td>met</td>\n",
       "      <td>no</td>\n",
       "    </tr>\n",
       "    <tr>\n",
       "      <th>9</th>\n",
       "      <td>1.0</td>\n",
       "      <td>84.0</td>\n",
       "      <td>94.0</td>\n",
       "      <td>6</td>\n",
       "      <td>16271</td>\n",
       "      <td>800</td>\n",
       "      <td>5</td>\n",
       "      <td>black</td>\n",
       "      <td>urb_pop_20k_nonadj_met</td>\n",
       "      <td>urb</td>\n",
       "      <td>no</td>\n",
       "    </tr>\n",
       "    <tr>\n",
       "      <th>...</th>\n",
       "      <td>...</td>\n",
       "      <td>...</td>\n",
       "      <td>...</td>\n",
       "      <td>...</td>\n",
       "      <td>...</td>\n",
       "      <td>...</td>\n",
       "      <td>...</td>\n",
       "      <td>...</td>\n",
       "      <td>...</td>\n",
       "      <td>...</td>\n",
       "      <td>...</td>\n",
       "    </tr>\n",
       "    <tr>\n",
       "      <th>2892</th>\n",
       "      <td>1.0</td>\n",
       "      <td>65.0</td>\n",
       "      <td>37.0</td>\n",
       "      <td>1</td>\n",
       "      <td>25000</td>\n",
       "      <td>28000</td>\n",
       "      <td>5</td>\n",
       "      <td>black</td>\n",
       "      <td>central_metro_1mil</td>\n",
       "      <td>met</td>\n",
       "      <td>no</td>\n",
       "    </tr>\n",
       "    <tr>\n",
       "      <th>2895</th>\n",
       "      <td>0.0</td>\n",
       "      <td>28.0</td>\n",
       "      <td>35.0</td>\n",
       "      <td>1</td>\n",
       "      <td>50160</td>\n",
       "      <td>10000</td>\n",
       "      <td>0</td>\n",
       "      <td>None</td>\n",
       "      <td>central_metro_1mil</td>\n",
       "      <td>met</td>\n",
       "      <td>no</td>\n",
       "    </tr>\n",
       "    <tr>\n",
       "      <th>2896</th>\n",
       "      <td>0.0</td>\n",
       "      <td>58.0</td>\n",
       "      <td>63.0</td>\n",
       "      <td>1</td>\n",
       "      <td>31749</td>\n",
       "      <td>-15200</td>\n",
       "      <td>5</td>\n",
       "      <td>None</td>\n",
       "      <td>central_metro_1mil</td>\n",
       "      <td>met</td>\n",
       "      <td>no</td>\n",
       "    </tr>\n",
       "    <tr>\n",
       "      <th>2898</th>\n",
       "      <td>1.0</td>\n",
       "      <td>25.0</td>\n",
       "      <td>41.0</td>\n",
       "      <td>1</td>\n",
       "      <td>31749</td>\n",
       "      <td>-15200</td>\n",
       "      <td>0</td>\n",
       "      <td>black</td>\n",
       "      <td>central_metro_1mil</td>\n",
       "      <td>met</td>\n",
       "      <td>no</td>\n",
       "    </tr>\n",
       "    <tr>\n",
       "      <th>2899</th>\n",
       "      <td>1.0</td>\n",
       "      <td>99.0</td>\n",
       "      <td>22.0</td>\n",
       "      <td>1</td>\n",
       "      <td>124400</td>\n",
       "      <td>142000</td>\n",
       "      <td>5</td>\n",
       "      <td>black</td>\n",
       "      <td>central_metro_1mil</td>\n",
       "      <td>met</td>\n",
       "      <td>no</td>\n",
       "    </tr>\n",
       "  </tbody>\n",
       "</table>\n",
       "<p>1487 rows × 11 columns</p>\n",
       "</div>"
      ],
      "text/plain": [
       "      race_code  read_score  math_score  urban_rural  fam_income  wealth_w_eq  \\\n",
       "0           2.0        25.0        30.0            7       50880       113050   \n",
       "1           0.0         3.0         2.0            7       37760        11500   \n",
       "5           2.0         1.0         8.0            3       16735        48700   \n",
       "6           2.0        16.0        24.0            3       16735        48700   \n",
       "9           1.0        84.0        94.0            6       16271          800   \n",
       "...         ...         ...         ...          ...         ...          ...   \n",
       "2892        1.0        65.0        37.0            1       25000        28000   \n",
       "2895        0.0        28.0        35.0            1       50160        10000   \n",
       "2896        0.0        58.0        63.0            1       31749       -15200   \n",
       "2898        1.0        25.0        41.0            1       31749       -15200   \n",
       "2899        1.0        99.0        22.0            1      124400       142000   \n",
       "\n",
       "      college_degree   race                urb_rur1 urb_rur2 college_grad  \n",
       "0                  0  white    urb_pop_less_adj_met      urb           no  \n",
       "1                  0   None    urb_pop_less_adj_met      urb           no  \n",
       "5                  0  white       county_metro_250k      met           no  \n",
       "6                  0  white       county_metro_250k      met           no  \n",
       "9                  5  black  urb_pop_20k_nonadj_met      urb           no  \n",
       "...              ...    ...                     ...      ...          ...  \n",
       "2892               5  black      central_metro_1mil      met           no  \n",
       "2895               0   None      central_metro_1mil      met           no  \n",
       "2896               5   None      central_metro_1mil      met           no  \n",
       "2898               0  black      central_metro_1mil      met           no  \n",
       "2899               5  black      central_metro_1mil      met           no  \n",
       "\n",
       "[1487 rows x 11 columns]"
      ]
     },
     "execution_count": 181,
     "metadata": {},
     "output_type": "execute_result"
    }
   ],
   "source": [
    "data_df"
   ]
  },
  {
   "cell_type": "code",
   "execution_count": 182,
   "metadata": {
    "ExecuteTime": {
     "end_time": "2020-10-19T02:41:02.356804Z",
     "start_time": "2020-10-19T02:41:02.353072Z"
    }
   },
   "outputs": [],
   "source": [
    "X = data_df[[\"race\", \"read_score\", \"math_score\", \"fam_income\", \"wealth_w_eq\", \"urb_rur2\"]]\n",
    "y = data_df[\"college_grad\"]"
   ]
  },
  {
   "cell_type": "code",
   "execution_count": 192,
   "metadata": {
    "ExecuteTime": {
     "end_time": "2020-10-19T02:51:21.289528Z",
     "start_time": "2020-10-19T02:51:21.286104Z"
    }
   },
   "outputs": [
    {
     "data": {
      "text/plain": [
       "1487"
      ]
     },
     "execution_count": 192,
     "metadata": {},
     "output_type": "execute_result"
    }
   ],
   "source": [
    "len(X[\"read_score\"])"
   ]
  },
  {
   "cell_type": "code",
   "execution_count": 201,
   "metadata": {
    "ExecuteTime": {
     "end_time": "2020-10-19T02:54:49.668734Z",
     "start_time": "2020-10-19T02:54:49.664371Z"
    }
   },
   "outputs": [],
   "source": [
    "X_fill = X.fillna({\"read_score\": 50, \"math_score\": 50})"
   ]
  },
  {
   "cell_type": "code",
   "execution_count": 213,
   "metadata": {
    "ExecuteTime": {
     "end_time": "2020-10-19T02:56:58.521823Z",
     "start_time": "2020-10-19T02:56:58.325533Z"
    }
   },
   "outputs": [
    {
     "data": {
      "text/plain": [
       "(0.7333894028595458, 0.7013422818791947)"
      ]
     },
     "execution_count": 213,
     "metadata": {},
     "output_type": "execute_result"
    }
   ],
   "source": [
    "kfold = StratifiedKFold(shuffle=True, random_state=0)\n",
    "\n",
    "X_dum = pd.get_dummies(X_fill)\n",
    "\n",
    "X_train, X_test, y_train, y_test = train_test_split(X_dum, y, test_size=0.2, random_state=0)\n",
    "\n",
    "scaler = StandardScaler()\n",
    "X_train_scale = scaler.fit_transform(X_train)\n",
    "X_test_scale = scaler.transform(X_test)\n",
    "\n",
    "lm = LogisticRegressionCV(cv=kfold)\n",
    "lm.fit(X_train_scale, y_train);\n",
    "lm.score(X_train_scale, y_train), lm.score(X_test_scale, y_test)"
   ]
  },
  {
   "cell_type": "code",
   "execution_count": 217,
   "metadata": {
    "ExecuteTime": {
     "end_time": "2020-10-19T03:02:09.319557Z",
     "start_time": "2020-10-19T03:02:09.191947Z"
    }
   },
   "outputs": [
    {
     "data": {
      "image/png": "[encoded data removed]",
      "text/plain": [
       "<Figure size 432x288 with 2 Axes>"
      ]
     },
     "metadata": {
      "needs_background": "light"
     },
     "output_type": "display_data"
    }
   ],
   "source": [
    "plot_confusion_matrix(lm, X_test_scale, y_test);"
   ]
  },
  {
   "cell_type": "code",
   "execution_count": null,
   "metadata": {},
   "outputs": [],
   "source": []
  }
 ],
 "metadata": {
  "kernelspec": {
   "display_name": "Python 3",
   "language": "python",
   "name": "python3"
  },
  "language_info": {
   "codemirror_mode": {
    "name": "ipython",
    "version": 3
   },
   "file_extension": ".py",
   "mimetype": "text/x-python",
   "name": "python",
   "nbconvert_exporter": "python",
   "pygments_lexer": "ipython3",
   "version": "3.8.2"
  },
  "toc": {
   "base_numbering": 1,
   "nav_menu": {},
   "number_sections": true,
   "sideBar": true,
   "skip_h1_title": false,
   "title_cell": "Table of Contents",
   "title_sidebar": "Contents",
   "toc_cell": false,
   "toc_position": {},
   "toc_section_display": true,
   "toc_window_display": false
  },
  "varInspector": {
   "cols": {
    "lenName": 16,
    "lenType": 16,
    "lenVar": 40
   },
   "kernels_config": {
    "python": {
     "delete_cmd_postfix": "",
     "delete_cmd_prefix": "del ",
     "library": "var_list.py",
     "varRefreshCmd": "print(var_dic_list())"
    },
    "r": {
     "delete_cmd_postfix": ") ",
     "delete_cmd_prefix": "rm(",
     "library": "var_list.r",
     "varRefreshCmd": "cat(var_dic_list()) "
    }
   },
   "types_to_exclude": [
    "module",
    "function",
    "builtin_function_or_method",
    "instance",
    "_Feature"
   ],
   "window_display": false
  }
 },
 "nbformat": 4,
 "nbformat_minor": 4
}
