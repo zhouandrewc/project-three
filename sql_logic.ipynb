{
 "cells": [
  {
   "cell_type": "code",
   "execution_count": 9,
   "metadata": {
    "execution": {
     "iopub.execute_input": "2020-10-30T21:18:55.877561Z",
     "iopub.status.busy": "2020-10-30T21:18:55.877363Z",
     "iopub.status.idle": "2020-10-30T21:18:55.880728Z",
     "shell.execute_reply": "2020-10-30T21:18:55.880138Z",
     "shell.execute_reply.started": "2020-10-30T21:18:55.877540Z"
    }
   },
   "outputs": [],
   "source": [
    "import pandas as pd\n",
    "import numpy as np\n",
    "import re\n",
    "import sys\n",
    "import seaborn as sns\n",
    "\n",
    "sys.path.append('data/processing')\n",
    "\n",
    "from utilities import get_variables"
   ]
  },
  {
   "cell_type": "code",
   "execution_count": 10,
   "metadata": {
    "execution": {
     "iopub.execute_input": "2020-10-30T21:18:56.389920Z",
     "iopub.status.busy": "2020-10-30T21:18:56.389703Z",
     "iopub.status.idle": "2020-10-30T21:19:02.218013Z",
     "shell.execute_reply": "2020-10-30T21:19:02.217302Z",
     "shell.execute_reply.started": "2020-10-30T21:18:56.389897Z"
    }
   },
   "outputs": [],
   "source": [
    "table_dict = get_variables(\"data/processing/mod_vars_clean.txt\")\n",
    "\n",
    "tables = []\n",
    "\n",
    "for file, variables in table_dict.items():\n",
    "    tmp = pd.read_csv(file, usecols=variables.keys()).rename(variables, axis=1)\n",
    "    tables.append(tmp)\n",
    "    \n",
    "def get_df(file):\n",
    "    df_dict = table_dict[file]\n",
    "    return pd.read_csv(file, usecols = df_dict.keys()).rename(df_dict, axis=1)\n",
    "\n",
    "fam01_df = get_df('data/processing/fam2001er/FAM2001ER.csv')\n",
    "ind17_df = get_df('data/processing/ind2017er/IND2017ER.csv')\n",
    "child02_df = get_df('data/processing/cds2002/CHILD.csv')\n",
    "wlth01_df = get_df('data/processing/wlth2001/WLTH2001.csv')\n",
    "assess_df = get_df('data/processing/cds2002/ASSESSMT.csv')\n",
    "demog_df = get_df('data/processing/cds2002/DEMOG.csv')\n",
    "ta17_df = get_df('data/processing/TA2017/TA2017.csv')\n",
    "fam_map_df = get_df(\"data/processing/family_map/fim10621_gid_BO_2_BAL_wide_cds.csv\")\n",
    "cah_df = get_df(\"data/processing/cah85_17/CAH85_17.csv\")\n",
    "pcg_df = get_df(\"data/processing/cds2002/PCG_CHLD.csv\")"
   ]
  },
  {
   "cell_type": "code",
   "execution_count": 13,
   "metadata": {
    "execution": {
     "iopub.execute_input": "2020-10-30T21:44:14.737349Z",
     "iopub.status.busy": "2020-10-30T21:44:14.737142Z",
     "iopub.status.idle": "2020-10-30T21:44:14.740794Z",
     "shell.execute_reply": "2020-10-30T21:44:14.740036Z",
     "shell.execute_reply.started": "2020-10-30T21:44:14.737326Z"
    }
   },
   "outputs": [],
   "source": [
    "from os import environ\n",
    "from sqlalchemy import create_engine\n",
    "\n",
    "uri = \"postgres+psycopg2://zhou@localhost:5432/psid\"\n",
    "engine = create_engine(uri, echo=False)"
   ]
  },
  {
   "cell_type": "code",
   "execution_count": null,
   "metadata": {},
   "outputs": [],
   "source": []
  },
  {
   "cell_type": "code",
   "execution_count": 14,
   "metadata": {
    "execution": {
     "iopub.execute_input": "2020-10-30T21:44:15.992076Z",
     "iopub.status.busy": "2020-10-30T21:44:15.991861Z",
     "iopub.status.idle": "2020-10-30T21:45:10.481269Z",
     "shell.execute_reply": "2020-10-30T21:45:10.480698Z",
     "shell.execute_reply.started": "2020-10-30T21:44:15.992052Z"
    }
   },
   "outputs": [],
   "source": [
    "fam01_df.to_sql(\"fam01\", con=engine, if_exists=\"replace\");\n",
    "ind17_df.to_sql(\"ind17\", con=engine, if_exists=\"replace\");\n",
    "child02_df.to_sql(\"child02\", con=engine, if_exists=\"replace\");\n",
    "wlth01_df.to_sql(\"wlth01\", con=engine, if_exists=\"replace\");\n",
    "assess_df.to_sql(\"assess\", con=engine, if_exists=\"replace\");\n",
    "demog_df.to_sql(\"demog\", con=engine, if_exists=\"replace\");\n",
    "ta17_df.to_sql(\"ta17\", con=engine, if_exists=\"replace\");\n",
    "fam_map_df.to_sql(\"fam_map\", con=engine, if_exists=\"replace\");\n",
    "cah_df.to_sql(\"cah\", con=engine, if_exists=\"replace\");\n",
    "pcg_df.to_sql(\"pcg02\", con=engine, if_exists=\"replace\");"
   ]
  }
 ],
 "metadata": {
  "kernelspec": {
   "display_name": "Python 3",
   "language": "python",
   "name": "python3"
  },
  "language_info": {
   "codemirror_mode": {
    "name": "ipython",
    "version": 3
   },
   "file_extension": ".py",
   "mimetype": "text/x-python",
   "name": "python",
   "nbconvert_exporter": "python",
   "pygments_lexer": "ipython3",
   "version": "3.8.2"
  }
 },
 "nbformat": 4,
 "nbformat_minor": 4
}
