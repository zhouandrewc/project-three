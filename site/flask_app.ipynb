{
 "cells": [
  {
   "cell_type": "code",
   "execution_count": 9,
   "metadata": {
    "collapsed": false,
    "execution": {
     "iopub.execute_input": "2020-10-30T22:19:10.093085Z",
     "iopub.status.busy": "2020-10-30T22:19:10.092869Z",
     "iopub.status.idle": "2020-10-30T22:19:10.095969Z",
     "shell.execute_reply": "2020-10-30T22:19:10.095172Z",
     "shell.execute_reply.started": "2020-10-30T22:19:10.093062Z"
    },
    "jupyter": {
     "outputs_hidden": false
    }
   },
   "outputs": [],
   "source": [
    "import flask\n",
    "import numpy as np\n",
    "import pandas as pd\n",
    "import pickle"
   ]
  },
  {
   "cell_type": "code",
   "execution_count": 10,
   "metadata": {
    "collapsed": false,
    "execution": {
     "iopub.execute_input": "2020-10-30T22:19:11.210606Z",
     "iopub.status.busy": "2020-10-30T22:19:11.210404Z",
     "iopub.status.idle": "2020-10-30T22:19:11.215292Z",
     "shell.execute_reply": "2020-10-30T22:19:11.214850Z",
     "shell.execute_reply.started": "2020-10-30T22:19:11.210584Z"
    },
    "jupyter": {
     "outputs_hidden": false
    }
   },
   "outputs": [],
   "source": [
    "# Initialize the app\n",
    "app = flask.Flask(__name__)\n",
    "\n",
    "# Homepage\n",
    "@app.route(\"/\")\n",
    "def viz_page():\n",
    "    \"\"\"\n",
    "    Homepage\n",
    "    \"\"\"\n",
    "    return \"Hello World!\"\n",
    "\n",
    "@app.route(\"/bar\")\n",
    "def bar():\n",
    "    with open(\"bar_chart.html\", 'r') as viz_file:\n",
    "        return viz_file.read()"
   ]
  },
  {
   "cell_type": "code",
   "execution_count": null,
   "metadata": {
    "collapsed": false,
    "execution": {
     "iopub.execute_input": "2020-10-30T22:19:11.888369Z",
     "iopub.status.busy": "2020-10-30T22:19:11.888161Z"
    },
    "jupyter": {
     "outputs_hidden": false
    }
   },
   "outputs": [
    {
     "name": "stdout",
     "output_type": "stream",
     "text": [
      " * Serving Flask app \"__main__\" (lazy loading)\n",
      " * Environment: production\n",
      "\u001b[31m   WARNING: This is a development server. Do not use it in a production deployment.\u001b[0m\n",
      "\u001b[2m   Use a production WSGI server instead.\u001b[0m\n",
      " * Debug mode: off\n"
     ]
    },
    {
     "name": "stderr",
     "output_type": "stream",
     "text": [
      " * Running on http://127.0.0.1:5000/ (Press CTRL+C to quit)\n",
      "127.0.0.1 - - [30/Oct/2020 15:19:16] \"\u001b[37mGET / HTTP/1.1\u001b[0m\" 200 -\n",
      "127.0.0.1 - - [30/Oct/2020 15:19:16] \"\u001b[33mGET /favicon.ico HTTP/1.1\u001b[0m\" 404 -\n",
      "127.0.0.1 - - [30/Oct/2020 15:19:18] \"\u001b[37mGET /bar HTTP/1.1\u001b[0m\" 200 -\n",
      "127.0.0.1 - - [30/Oct/2020 15:21:02] \"\u001b[37mGET /bar HTTP/1.1\u001b[0m\" 200 -\n"
     ]
    }
   ],
   "source": [
    "#--------- RUN WEB APP SERVER ------------#\n",
    "\n",
    "# Starurl_forthe app server on port 80\n",
    "# (The default website port)\n",
    "if __name__ == '__main__':\n",
    "    app.run()"
   ]
  },
  {
   "cell_type": "code",
   "execution_count": null,
   "metadata": {},
   "outputs": [],
   "source": []
  },
  {
   "cell_type": "code",
   "execution_count": null,
   "metadata": {},
   "outputs": [],
   "source": []
  }
 ],
 "metadata": {
  "kernelspec": {
   "display_name": "Python 3",
   "language": "python",
   "name": "python3"
  },
  "language_info": {
   "codemirror_mode": {
    "name": "ipython",
    "version": 3
   },
   "file_extension": ".py",
   "mimetype": "text/x-python",
   "name": "python",
   "nbconvert_exporter": "python",
   "pygments_lexer": "ipython3",
   "version": "3.8.2"
  }
 },
 "nbformat": 4,
 "nbformat_minor": 4
}
