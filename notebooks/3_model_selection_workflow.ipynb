{
 "cells": [
  {
   "cell_type": "markdown",
   "metadata": {},
   "source": [
    "# Model Training, Selection, and Evaluation"
   ]
  },
  {
   "cell_type": "code",
   "execution_count": 2,
   "metadata": {
    "execution": {
     "iopub.execute_input": "2020-10-31T18:15:49.530392Z",
     "iopub.status.busy": "2020-10-31T18:15:49.530162Z",
     "iopub.status.idle": "2020-10-31T18:15:49.865372Z",
     "shell.execute_reply": "2020-10-31T18:15:49.864887Z",
     "shell.execute_reply.started": "2020-10-31T18:15:49.530367Z"
    }
   },
   "outputs": [],
   "source": [
    "import pandas as pd\n",
    "import numpy as np\n",
    "import sklearn\n",
    "import pickle\n",
    "import seaborn as sns\n",
    "import sys\n",
    "\n",
    "sys.path.append(\"..\")\n",
    "\n",
    "\n",
    "from sklearn.preprocessing import OneHotEncoder, StandardScaler\n",
    "from sklearn.model_selection import train_test_split, StratifiedKFold\n",
    "from sklearn.pipeline import Pipeline, make_pipeline\n",
    "from sklearn.impute import SimpleImputer\n",
    "\n",
    "from sklearn import model_selection\n",
    "from sklearn import linear_model, svm, naive_bayes, neighbors, ensemble, metrics\n",
    "from sklearn import metrics\n",
    "\n",
    "from sklearn.linear_model import LogisticRegression, LogisticRegressionCV\n",
    "from sklearn.ensemble import RandomForestClassifier, AdaBoostClassifier\n",
    "from sklearn.svm import SVC\n",
    "from sklearn.neighbors import KNeighborsClassifier\n",
    "\n",
    "import matplotlib.pyplot as plt\n",
    "\n",
    "from imblearn.over_sampling import SMOTE\n",
    "\n",
    "from itertools import product\n",
    "from util.evaluation import confusion_matrix\n",
    "from util.modeling import prepro, cross_val, get_scores, sort_scores_by_metric, get_best_params, train_best_model, tune_hyper, print_best_params"
   ]
  },
  {
   "cell_type": "markdown",
   "metadata": {},
   "source": [
    "## Read in Data"
   ]
  },
  {
   "cell_type": "markdown",
   "metadata": {},
   "source": [
    "Read the data, separate into X and y."
   ]
  },
  {
   "cell_type": "code",
   "execution_count": 3,
   "metadata": {
    "execution": {
     "iopub.execute_input": "2020-10-31T18:29:22.791667Z",
     "iopub.status.busy": "2020-10-31T18:29:22.791437Z",
     "iopub.status.idle": "2020-10-31T18:29:22.803808Z",
     "shell.execute_reply": "2020-10-31T18:29:22.803161Z",
     "shell.execute_reply.started": "2020-10-31T18:29:22.791642Z"
    }
   },
   "outputs": [],
   "source": [
    "data = pd.read_csv(\"../data/data.csv\")\n",
    "\n",
    "X = data.drop(labels=[\"grad_bach\", \"survey_weight\"], axis=1)\n",
    "y = data[\"grad_bach\"]\n"
   ]
  },
  {
   "cell_type": "markdown",
   "metadata": {},
   "source": [
    "Note that the dataset is unrepresentative of the US population. In particular, Black families are oversampled; the data are also unrepresentative among other different axes. In all training and evaluation we will use survey weights in order to train and evaluate on a representative sample."
   ]
  },
  {
   "cell_type": "code",
   "execution_count": null,
   "metadata": {},
   "outputs": [],
   "source": [
    "weights = data[\"survey_weight\"]"
   ]
  },
  {
   "cell_type": "markdown",
   "metadata": {},
   "source": [
    "Reminder of what our features are."
   ]
  },
  {
   "cell_type": "code",
   "execution_count": 170,
   "metadata": {
    "execution": {
     "iopub.execute_input": "2020-10-30T21:19:37.590998Z",
     "iopub.status.busy": "2020-10-30T21:19:37.590789Z",
     "iopub.status.idle": "2020-10-30T21:19:37.619162Z",
     "shell.execute_reply": "2020-10-30T21:19:37.618718Z",
     "shell.execute_reply.started": "2020-10-30T21:19:37.590978Z"
    }
   },
   "outputs": [
    {
     "data": {
      "text/plain": [
       "['math_score',\n",
       " 'reading_score',\n",
       " 'wealth',\n",
       " 'income',\n",
       " 'environment_type',\n",
       " 'age',\n",
       " 'white_only',\n",
       " 'black',\n",
       " 'asian',\n",
       " 'live_w_both_parents',\n",
       " 'food_security',\n",
       " 'hispanic']"
      ]
     },
     "execution_count": 170,
     "metadata": {},
     "output_type": "execute_result"
    }
   ],
   "source": [
    "X.columns.to_list()"
   ]
  },
  {
   "cell_type": "markdown",
   "metadata": {},
   "source": [
    "Train-Test split."
   ]
  },
  {
   "cell_type": "code",
   "execution_count": 20,
   "metadata": {
    "execution": {
     "iopub.execute_input": "2020-10-30T17:29:06.115946Z",
     "iopub.status.busy": "2020-10-30T17:29:06.115760Z",
     "iopub.status.idle": "2020-10-30T17:29:06.146763Z",
     "shell.execute_reply": "2020-10-30T17:29:06.146245Z",
     "shell.execute_reply.started": "2020-10-30T17:29:06.115927Z"
    }
   },
   "outputs": [],
   "source": [
    "X_train_val, X_test, y_train_val, y_test = train_test_split(X, y, test_size=0.2, random_state=0, stratify=y)\n",
    "X_train, X_val, y_train, y_val = train_test_split(X_train_val, y_train_val, test_size=0.2, random_state=0, stratify=y_train_val)"
   ]
  },
  {
   "cell_type": "markdown",
   "metadata": {},
   "source": [
    "## Tune Hyperparameters for Various Models"
   ]
  },
  {
   "cell_type": "markdown",
   "metadata": {},
   "source": [
    "### Discussion"
   ]
  },
  {
   "cell_type": "markdown",
   "metadata": {},
   "source": [
    "We now tune hyperparameters using cross-validation within the training set. After arriving at the optimal hyperparameters (for our selected metric) for each model, we will then compare the models using the validation set. \n"
   ]
  },
  {
   "cell_type": "markdown",
   "metadata": {},
   "source": [
    "#### Metric Selection\n",
    "\n",
    "Our ```tune_hyper``` method returns various scores for each model: accuracy, f1, f<sub>0.5</sub>, precision, and recall. We can score the methods on any of these parameters.\n",
    "\n",
    "We choose the **f<sub>0.5</sub>-score** metric in order to evaluate the performance of each model. This metric weighs precision twice as much as recall. Thus we first penalize false positives and then false negatives. We penalize false positives more because we don't want to market to individuals who do not receive a bachelor's degree, resulting in a concrete waste of resources. False negatives are not as bad as we are simply missing out on potential bachelor's recipients, but we do still want to reach out to as many as possible."
   ]
  },
  {
   "cell_type": "markdown",
   "metadata": {},
   "source": [
    "#### Oversampling"
   ]
  },
  {
   "cell_type": "markdown",
   "metadata": {},
   "source": [
    "In addition to searching over different classifier keywords, we also try different sampling methods: either no sampling or oversampling with SMOTE with various neighbor counts. The minority class is graduates, both weighted and unweighted."
   ]
  },
  {
   "cell_type": "markdown",
   "metadata": {},
   "source": [
    "We set up the oversamplers we use so we don't have to redefine."
   ]
  },
  {
   "cell_type": "code",
   "execution_count": 23,
   "metadata": {
    "execution": {
     "iopub.execute_input": "2020-10-30T17:29:21.817902Z",
     "iopub.status.busy": "2020-10-30T17:29:21.817711Z",
     "iopub.status.idle": "2020-10-30T17:29:21.844931Z",
     "shell.execute_reply": "2020-10-30T17:29:21.844302Z",
     "shell.execute_reply.started": "2020-10-30T17:29:21.817882Z"
    }
   },
   "outputs": [],
   "source": [
    "samplers = [None] + [SMOTE(random_state=0, k_neighbors=k) for k in [3, 5, 7]]"
   ]
  },
  {
   "cell_type": "markdown",
   "metadata": {},
   "source": [
    "### Tune Models"
   ]
  },
  {
   "cell_type": "markdown",
   "metadata": {},
   "source": [
    "#### Tune Logistic Regression"
   ]
  },
  {
   "cell_type": "code",
   "execution_count": null,
   "metadata": {},
   "outputs": [],
   "source": [
    "C = [0.05, 0.1, 1, 5, 10, 100, 1000]\n",
    "solver = [\"liblinear\"]\n",
    "penalty = ['l1', 'l2']\n",
    "class_weight = [None, \"balanced\"]\n",
    "\n",
    "scale = [True]\n",
    "\n",
    "keywords = [\"C\", \"solver\", \"penalty\", \"class_weight\"]\n",
    "param_grid = product(C, solver, penalty, class_weight)\n",
    "\n",
    "prod_size = len(C)*len(solver)*len(penalty)*len(class_weight)*len(samplers)*len(scale)\n",
    "print_prog = (15, prod_size)\n",
    "\n",
    "lr_scores = tune_hyper(X_train, y_train, LogisticRegression, keywords, param_grid, weights, samplers=samplers, scaling=scale, print_prog=print_prog)"
   ]
  },
  {
   "cell_type": "code",
   "execution_count": null,
   "metadata": {
    "execution": {
     "iopub.status.busy": "2020-10-30T17:29:32.496397Z",
     "iopub.status.idle": "2020-10-30T17:29:32.496638Z"
    }
   },
   "outputs": [],
   "source": [
    "get_best_params(sc_lr, \"fp5\")"
   ]
  },
  {
   "cell_type": "code",
   "execution_count": null,
   "metadata": {},
   "outputs": [],
   "source": [
    "keywords_lr = [\"C\", \"solver\", \"penalty\", \"class_weight\"]\n",
    "lr_best = train_best_model(X_train, y_train, LogisticRegression, keywords_lr, sc_lr, \"fp5\", weights)\n",
    "cols = prepro(X_train)[0].columns\n",
    "lr_coefs = list(zip(cols, lr_best.coef_[0]))"
   ]
  },
  {
   "cell_type": "code",
   "execution_count": null,
   "metadata": {},
   "outputs": [],
   "source": [
    "sorted(lr_coefs, key=lambda x: abs(x[1]), reverse=True)"
   ]
  },
  {
   "cell_type": "code",
   "execution_count": null,
   "metadata": {},
   "outputs": [],
   "source": [
    "print(metrics.classification_report(y_val, lr_best.predict(prepro(X_train, X_val, scale=True)[1]), sample_weight=weights[y_val.index]))\n",
    "print(metrics.fbeta_score(y_val, lr_best.predict(prepro(X_train, X_val, scale=True)[1]), beta=0.5, sample_weight=weights[y_val.index]))"
   ]
  },
  {
   "cell_type": "markdown",
   "metadata": {},
   "source": [
    "#### Tune Random Forest"
   ]
  },
  {
   "cell_type": "code",
   "execution_count": null,
   "metadata": {},
   "outputs": [],
   "source": [
    "n_estimators = [100]\n",
    "criterion = [\"gini\", \"entropy\"]\n",
    "max_depth = [None, 3, 5]\n",
    "min_samples_split = [2, 3]\n",
    "min_samples_leaf = [1, 2, 3]\n",
    "\n",
    "n_jobs = [-1]\n",
    "\n",
    "class_weight = [None, \"balanced\"]#, \"balanced_subsample\"]\n",
    "\n",
    "keywords = [\"n_estimators\", \"criterion\", \"max_depth\", \"min_samples_split\", \"min_samples_leaf\", \"max_features\", \"class_weight\", \"n_jobs\"]\n",
    "param_grid = product(n_estimators, criterion, max_depth, min_samples_split, min_samples_leaf, max_features, class_weight, n_jobs)\n",
    "\n",
    "scale = [False]\n",
    "\n",
    "prod_size = len(n_estimators)*len(criterion)*len(max_depth)*len(min_samples_split)*len(min_samples_leaf)*len(max_features)*len(class_weight)*len(samplers)*len(scale)\n",
    "print_prog = (5, prod_size)\n",
    "\n",
    "rf_scores = tune_hyper(X_train, y_train, RandomForestClassifier, keywords, param_grid, weights, samplers=samplers, scaling=scale, print_prog=print_prog)"
   ]
  },
  {
   "cell_type": "code",
   "execution_count": null,
   "metadata": {},
   "outputs": [],
   "source": [
    "get_best_params(sc_rf, \"fp5\")"
   ]
  },
  {
   "cell_type": "code",
   "execution_count": null,
   "metadata": {},
   "outputs": [],
   "source": [
    "keywords_rf = [\"n_estimators\", \"criterion\", \"max_depth\", \"min_samples_split\", \"min_samples_leaf\", \"max_features\", \"class_weight\", \"n_jobs\"]\n",
    "rf_best = train_best_model(X_train, y_train, RandomForestClassifier, keywords_rf, sc_rf, \"fp5\")"
   ]
  },
  {
   "cell_type": "code",
   "execution_count": null,
   "metadata": {},
   "outputs": [],
   "source": [
    "cols = prepro(X_train)[0].columns\n",
    "rf_coefs = list(zip(cols, rf_best.feature_importances_))\n",
    "rf_coefs"
   ]
  },
  {
   "cell_type": "code",
   "execution_count": null,
   "metadata": {},
   "outputs": [],
   "source": [
    "print(metrics.fbeta_score(y_val, rf_best.predict(prepro(X_train, X_val, scale=False)[1]), beta=0.5, sample_weight=weights[y_val.index]))\n",
    "print(metrics.classification_report(y_val, rf_best.predict(prepro(X_train, X_val, scale=False)[1]), sample_weight=weights[y_val.index]))"
   ]
  },
  {
   "cell_type": "markdown",
   "metadata": {},
   "source": [
    "#### Tune KNN"
   ]
  },
  {
   "cell_type": "markdown",
   "metadata": {},
   "source": [
    "A special note for KNN: the ```KNeighborsClassifier``` does not support weighting samples for training and prediction, though we may weight for classification."
   ]
  },
  {
   "cell_type": "code",
   "execution_count": null,
   "metadata": {},
   "outputs": [],
   "source": [
    "n_neighbors = [5, 10, 20, 25, 35, 50, 75, 100]\n",
    "weights_knn = [\"uniform\", \"distance\"]\n",
    "algorithm = [\"auto\"]\n",
    "p = [1, 2, 3, 4]\n",
    "\n",
    "keywords = [\"n_neighbors\", \"weights\", \"algorithm\", \"p\"]\n",
    "param_grid = product(n_neighbors, weights_knn, algorithm, p)\n",
    "\n",
    "scale = [True]\n",
    "\n",
    "prod_size = len(n_neighbors)*len(weights_knn)*len(algorithm)*len(p)*len(samplers)*len(scale)\n",
    "print_prog = (10, prod_size)\n",
    "\n",
    "knn_scores = tune_hyper(X_train, y_train, KNeighborsClassifier, keywords, param_grid, weights, randomized=False, samplers=samplers, scaling=scale, print_prog=print_prog)"
   ]
  },
  {
   "cell_type": "code",
   "execution_count": null,
   "metadata": {},
   "outputs": [],
   "source": [
    "knn_scores"
   ]
  },
  {
   "cell_type": "markdown",
   "metadata": {},
   "source": [
    "#### Tune SVC"
   ]
  },
  {
   "cell_type": "code",
   "execution_count": null,
   "metadata": {},
   "outputs": [],
   "source": [
    "C = [0.1, 0.5, 1, 5]\n",
    "kernel = [\"linear\", \"poly\", \"rbf\", \"sigmoid\"]\n",
    "gamma = [\"scale\", \"auto\"]\n",
    "class_weight = [None, \"balanced\"]\n",
    "probability = [False]\n",
    "\n",
    "keywords = [\"C\", \"kernel\", \"gamma\", \"class_weight\", \"probability\"]\n",
    "param_grid = product(C, kernel, gamma, class_weight, probability)\n",
    "\n",
    "scale = [True]\n",
    "\n",
    "prod_size = len(C)*len(kernel)*len(gamma)*len(class_weight)*len(samplers)*len(scale)\n",
    "print_prog = (1, prod_size)\n",
    "\n",
    "svc_scores = tune_hyper(X_train, y_train, SVC, keywords, param_grid, samplers=samplers, scaling=scale, print_prog=print_prog)"
   ]
  },
  {
   "cell_type": "code",
   "execution_count": null,
   "metadata": {},
   "outputs": [],
   "source": [
    "get_best_params(sc_svc, \"fp5\")"
   ]
  },
  {
   "cell_type": "markdown",
   "metadata": {},
   "source": [
    "#### Tune Adaboost"
   ]
  },
  {
   "cell_type": "code",
   "execution_count": null,
   "metadata": {},
   "outputs": [],
   "source": [
    "n_estimators = [25, 50, 100, 150]\n",
    "learning_rate = [1, 0.8, 0.5]\n",
    "keywords = [\"n_estimators\", \"learning_rate\"]\n",
    "param_grid = product(n_estimators, learning_rate)\n",
    "\n",
    "scale = [False]\n",
    "\n",
    "prod_size = len(n_estimators)*len(learning_rate)*len(samplers)*len(scale)\n",
    "print_prog = (10, prod_size)\n",
    "\n",
    "ada_scores = tune_hyper(X_train, y_train, AdaBoostClassifier, keywords, param_grid, weights, samplers=samplers, scaling=scale, print_prog=print_prog)"
   ]
  },
  {
   "cell_type": "code",
   "execution_count": null,
   "metadata": {},
   "outputs": [],
   "source": [
    "get_best_params(sc_ada, \"f1\")"
   ]
  },
  {
   "cell_type": "markdown",
   "metadata": {},
   "source": [
    "## Train Our Tuned Models"
   ]
  },
  {
   "cell_type": "markdown",
   "metadata": {},
   "source": [
    "Redefine classifier keyword parameters as a reminder and for ease of use."
   ]
  },
  {
   "cell_type": "code",
   "execution_count": 49,
   "metadata": {
    "execution": {
     "iopub.execute_input": "2020-10-30T17:41:20.889057Z",
     "iopub.status.busy": "2020-10-30T17:41:20.888867Z",
     "iopub.status.idle": "2020-10-30T17:41:20.916090Z",
     "shell.execute_reply": "2020-10-30T17:41:20.915407Z",
     "shell.execute_reply.started": "2020-10-30T17:41:20.889035Z"
    }
   },
   "outputs": [],
   "source": [
    "keywords_lr = [\"C\", \"solver\", \"penalty\", \"class_weight\"]\n",
    "keywords_rf = [\"n_estimators\", \"criterion\", \"max_depth\", \"min_samples_split\", \"min_samples_leaf\", \"max_features\", \"class_weight\", \"n_jobs\"]\n",
    "keywords_knn = [\"n_neighbors\", \"weights\", \"algorithm\", \"p\"]\n",
    "keywords_svc = [\"C\", \"kernel\", \"gamma\", \"class_weight\", \"probability\"]\n",
    "keywords_ada = [\"n_estimators\", \"learning_rate\"]"
   ]
  },
  {
   "cell_type": "markdown",
   "metadata": {},
   "source": [
    "Train each model."
   ]
  },
  {
   "cell_type": "code",
   "execution_count": 47,
   "metadata": {
    "execution": {
     "iopub.execute_input": "2020-10-30T17:39:50.048852Z",
     "iopub.status.busy": "2020-10-30T17:39:50.048668Z",
     "iopub.status.idle": "2020-10-30T17:39:50.076160Z",
     "shell.execute_reply": "2020-10-30T17:39:50.075533Z",
     "shell.execute_reply.started": "2020-10-30T17:39:50.048833Z"
    }
   },
   "outputs": [],
   "source": [
    "#lr_best = train_best_model(X_train, y_train, LogisticRegression, keywords_lr, sc_lr, \"fp5\", weights)\n",
    "#rf_best = train_best_model(X_train, y_train, RandomForestClassifier, keywords_rf, sc_rf, \"fp5\", weights)\n",
    "#knn_best = train_best_model(X_train, y_train, KNeighborsClassifier, keywords_knn, sc_knn, \"fp5\", weights, randomized=False)\n",
    "#svc_best = train_best_model(X_train, y_train, SVC, keywords_svc, sc_svc, \"fp5\", weights)\n",
    "#ada_best = train_best_model(X_train, y_train, AdaBoostClassifier, keywords_ada, sc_ada, \"fp5\")"
   ]
  },
  {
   "cell_type": "markdown",
   "metadata": {},
   "source": [
    "## Save Best Models and Scores"
   ]
  },
  {
   "cell_type": "code",
   "execution_count": 61,
   "metadata": {
    "execution": {
     "iopub.execute_input": "2020-10-30T18:07:36.117043Z",
     "iopub.status.busy": "2020-10-30T18:07:36.116852Z",
     "iopub.status.idle": "2020-10-30T18:07:36.144108Z",
     "shell.execute_reply": "2020-10-30T18:07:36.143576Z",
     "shell.execute_reply.started": "2020-10-30T18:07:36.117024Z"
    }
   },
   "outputs": [],
   "source": [
    "#with open(f\"models/lr_best.pickle\", \"wb\") as pfile:\n",
    "#    pickle.dump(lr_best, pfile)\n",
    "#with open (f\"models/lr_scores.pickle\", \"wb\") as pfile:\n",
    "#    pickle.dump(lr_scores, pfile)\n",
    "#with open(f\"models/rf_best.pickle\", \"wb\") as pfile:\n",
    "#    pickle.dump(rf_best, pfile)\n",
    "#with open (f\"models/rf_scores.pickle\", \"wb\") as pfile:\n",
    "#    pickle.dump(scrf_scores_rf, pfile)\n",
    "#with open(f\"models/knn_best.pickle\", \"wb\") as pfile:\n",
    "#    pickle.dump(knn_best, pfile)\n",
    "#with open (f\"models/knn_scores.pickle\", \"wb\") as pfile:\n",
    "#    pickle.dump(knn_scores, pfile)\n",
    "#with open(f\"models/svc_best.pickle\", \"wb\") as pfile:\n",
    "#    pickle.dump(svc_best, pfile)\n",
    "#with open (f\"models/svc_scores.pickle\", \"wb\") as pfile:\n",
    "#    pickle.dump(svc_scores, pfile)\n",
    "#with open(f\"models/ada_best.pickle\", \"wb\") as pfile:\n",
    "#    pickle.dump(ada_best, pfile)\n",
    "#with open (f\"models/ada_scores.pickle\", \"wb\") as pfile:\n",
    "#    pickle.dump(ada_scores, pfile)"
   ]
  },
  {
   "cell_type": "code",
   "execution_count": 62,
   "metadata": {
    "execution": {
     "iopub.execute_input": "2020-10-30T19:06:58.768747Z",
     "iopub.status.busy": "2020-10-30T19:06:58.768531Z",
     "iopub.status.idle": "2020-10-30T19:06:58.859696Z",
     "shell.execute_reply": "2020-10-30T19:06:58.859125Z",
     "shell.execute_reply.started": "2020-10-30T19:06:58.768724Z"
    }
   },
   "outputs": [],
   "source": [
    "model_names = [\"lr_best\", \"rf_best\", \"knn_best\", \"svc_best\", \"ada_best\"]\n",
    "\n",
    "for model_name in model_names:\n",
    "    with open(f\"models/{model_name}.pickle\", \"rb\") as pfile:\n",
    "        exec(f\"{model_name} = pickle.load(pfile)\")\n",
    "    score_name = model_name.split(\"_\")[0] + \"_scores\"\n",
    "    with open (f\"models/{score_name}.pickle\", \"rb\") as pfile:\n",
    "        exec(f\"{score_name} = pickle.load(pfile)\")\n",
    "\n",
    "models = [eval(n) for n in model_names]\n",
    "model_list = list(zip(model_names, models))\n",
    "score_list = list(zip(model_names, models))"
   ]
  },
  {
   "cell_type": "code",
   "execution_count": 87,
   "metadata": {
    "execution": {
     "iopub.execute_input": "2020-10-30T19:19:58.056668Z",
     "iopub.status.busy": "2020-10-30T19:19:58.056436Z",
     "iopub.status.idle": "2020-10-30T19:19:58.088546Z",
     "shell.execute_reply": "2020-10-30T19:19:58.087950Z",
     "shell.execute_reply.started": "2020-10-30T19:19:58.056644Z"
    }
   },
   "outputs": [
    {
     "name": "stdout",
     "output_type": "stream",
     "text": [
      "[('lr_best', LogisticRegression(C=0.05, penalty='l1', random_state=0, solver='liblinear')), ('rf_best', RandomForestClassifier(n_jobs=-1, random_state=0)), ('knn_best', KNeighborsClassifier(n_neighbors=100, p=4)), ('svc_best', SVC(C=5, kernel='linear', random_state=0)), ('ada_best', AdaBoostClassifier(learning_rate=0.5, n_estimators=25, random_state=0))]\n"
     ]
    }
   ],
   "source": [
    "print(model_list)"
   ]
  },
  {
   "cell_type": "markdown",
   "metadata": {},
   "source": [
    "## Model Evaluation and Comparison"
   ]
  },
  {
   "cell_type": "code",
   "execution_count": 85,
   "metadata": {
    "execution": {
     "iopub.execute_input": "2020-10-30T19:19:39.126991Z",
     "iopub.status.busy": "2020-10-30T19:19:39.126772Z",
     "iopub.status.idle": "2020-10-30T19:19:39.395284Z",
     "shell.execute_reply": "2020-10-30T19:19:39.394797Z",
     "shell.execute_reply.started": "2020-10-30T19:19:39.126968Z"
    }
   },
   "outputs": [
    {
     "name": "stdout",
     "output_type": "stream",
     "text": [
      "lr_best | fp5: 0.701 | acc: 0.742 | pre: 0.731 | rec: 0.604\n",
      "rf_best | fp5: 0.732 | acc: 0.770 | pre: 0.744 | rec: 0.686\n",
      "knn_best | fp5: 0.758 | acc: 0.780 | pre: 0.796 | rec: 0.639\n",
      "svc_best | fp5: 0.666 | acc: 0.716 | pre: 0.695 | rec: 0.573\n",
      "ada_best | fp5: 0.687 | acc: 0.732 | pre: 0.715 | rec: 0.597\n"
     ]
    }
   ],
   "source": [
    "for name, model in model_list:\n",
    "    if name == \"lr_best\" or name == \"knn_best\" or name == \"svc_best\":\n",
    "        y_pred = model.predict(prepro(X_train, X_val, scale=True)[1])\n",
    "    else:\n",
    "        y_pred = model.predict(prepro(X_train, X_val)[1])\n",
    "        \n",
    "    fp5 = metrics.fbeta_score(y_val, y_pred, beta=0.5, sample_weight=weights[y_val.index])\n",
    "    acc = metrics.accuracy_score(y_val, y_pred, sample_weight=weights[y_val.index])\n",
    "    pre = metrics.precision_score(y_val, y_pred, sample_weight=weights[y_val.index])\n",
    "    rec = metrics.recall_score(y_val, y_pred, sample_weight=weights[y_val.index])\n",
    "    print(name, \"| fp5: %.3f | acc: %.3f | pre: %.3f | rec: %.3f\" % (fp5, acc, pre, rec))"
   ]
  },
  {
   "cell_type": "markdown",
   "metadata": {},
   "source": [
    "We see KNNs has the best f<sub>0.5</sub>-score. However, we were unable to weight the KNN evaluation, so its score is not comparable to our other models: it's trained and validated on an unrepresentative dataset. Moreover, it's slow to predict, so we would prefer RF for a real-time prediction problem such as an app. \n",
    "\n",
    "Note that neither KNN nor RF is particularly interpretable. Of the models more amenable to interpretation (logistic regression and support vector classification), logistic regression is the best. We will use that for interpretation."
   ]
  },
  {
   "cell_type": "markdown",
   "metadata": {},
   "source": [
    "First let's get the variable names. "
   ]
  },
  {
   "cell_type": "code",
   "execution_count": 76,
   "metadata": {
    "execution": {
     "iopub.execute_input": "2020-10-30T19:15:33.089319Z",
     "iopub.status.busy": "2020-10-30T19:15:33.089084Z",
     "iopub.status.idle": "2020-10-30T19:15:33.134245Z",
     "shell.execute_reply": "2020-10-30T19:15:33.133736Z",
     "shell.execute_reply.started": "2020-10-30T19:15:33.089296Z"
    }
   },
   "outputs": [
    {
     "name": "stdout",
     "output_type": "stream",
     "text": [
      "['math_score', 'reading_score', 'wealth', 'income', 'age', 'white_only', 'black', 'asian', 'live_w_both_parents', 'food_security', 'hispanic', 'environment_type_met_central', 'environment_type_met_fringe', 'environment_type_met_small', 'environment_type_rural', 'environment_type_urb_met', 'environment_type_urb_nonmet']\n"
     ]
    }
   ],
   "source": [
    "features = prepro(X_train)[0].columns.to_list()\n",
    "print(features)"
   ]
  },
  {
   "cell_type": "markdown",
   "metadata": {},
   "source": [
    "\n",
    "Let's look at the performance of RF and LR."
   ]
  },
  {
   "cell_type": "markdown",
   "metadata": {},
   "source": [
    "### Random Forest Evaluation"
   ]
  },
  {
   "cell_type": "markdown",
   "metadata": {},
   "source": [
    "What are our best parameters?"
   ]
  },
  {
   "cell_type": "code",
   "execution_count": 81,
   "metadata": {
    "execution": {
     "iopub.execute_input": "2020-10-30T19:18:02.351524Z",
     "iopub.status.busy": "2020-10-30T19:18:02.351307Z",
     "iopub.status.idle": "2020-10-30T19:18:02.381973Z",
     "shell.execute_reply": "2020-10-30T19:18:02.381363Z",
     "shell.execute_reply.started": "2020-10-30T19:18:02.351501Z"
    }
   },
   "outputs": [
    {
     "name": "stdout",
     "output_type": "stream",
     "text": [
      "Classifier Params: [('n_estimators', 100), ('criterion', 'gini'), ('max_depth', None), ('min_samples_split', 2), ('min_samples_leaf', 1), ('max_features', 'auto'), ('class_weight', None), ('n_jobs', -1)]\n",
      "Sampler: None\n",
      "Scaling: False\n",
      "fp5 Score (CV): 0.7498773113212144\n"
     ]
    }
   ],
   "source": [
    "best_rf_params = get_best_params(rf_scores, \"fp5\")\n",
    "print_best_params(best_rf_params, keywords_rf, \"fp5\")"
   ]
  },
  {
   "cell_type": "markdown",
   "metadata": {},
   "source": [
    "Interestingly, we don't balance class weights or oversample. This result makes sense because we weight precision more, and oversampling the minority class will lead us to predict more graduates, leading to lower precision even if "
   ]
  },
  {
   "cell_type": "markdown",
   "metadata": {},
   "source": [
    "Let's look at the classification report. Note that the support takes float values because we are evaluating by weighting samples."
   ]
  },
  {
   "cell_type": "code",
   "execution_count": 91,
   "metadata": {
    "execution": {
     "iopub.execute_input": "2020-10-30T19:21:33.481301Z",
     "iopub.status.busy": "2020-10-30T19:21:33.481083Z",
     "iopub.status.idle": "2020-10-30T19:21:33.555656Z",
     "shell.execute_reply": "2020-10-30T19:21:33.555145Z",
     "shell.execute_reply.started": "2020-10-30T19:21:33.481277Z"
    }
   },
   "outputs": [
    {
     "name": "stdout",
     "output_type": "stream",
     "text": [
      "              precision    recall  f1-score   support\n",
      "\n",
      "           0       0.79      0.83      0.81 2972.9969999999976\n",
      "           1       0.74      0.69      0.71 2135.5330000000004\n",
      "\n",
      "    accuracy                           0.77 5108.529999999998\n",
      "   macro avg       0.77      0.76      0.76 5108.529999999998\n",
      "weighted avg       0.77      0.77      0.77 5108.529999999998\n",
      "\n",
      "fp5 score: 0.7319542574258807\n"
     ]
    }
   ],
   "source": [
    "y_pred_rf = rf_best.predict(prepro(X_train, X_val, scale=False)[1])\n",
    "print(metrics.classification_report(y_val, y_pred_rf, sample_weight=weights[y_val.index]))\n",
    "print(\"fp5 score:\", metrics.fbeta_score(y_val, y_pred_rf, beta=0.5, sample_weight=weights[y_val.index]))"
   ]
  },
  {
   "cell_type": "markdown",
   "metadata": {},
   "source": [
    "We have precision slightly higher than recall, as we might expect from our f<sub>0.5</sub>-score metric."
   ]
  },
  {
   "cell_type": "code",
   "execution_count": 96,
   "metadata": {
    "execution": {
     "iopub.execute_input": "2020-10-30T19:23:59.263359Z",
     "iopub.status.busy": "2020-10-30T19:23:59.263112Z",
     "iopub.status.idle": "2020-10-30T19:23:59.497091Z",
     "shell.execute_reply": "2020-10-30T19:23:59.496659Z",
     "shell.execute_reply.started": "2020-10-30T19:23:59.263329Z"
    }
   },
   "outputs": [
    {
     "data": {
      "image/png": "[encoded data removed]",
      "text/plain": [
       "<Figure size 720x720 with 2 Axes>"
      ]
     },
     "metadata": {},
     "output_type": "display_data"
    }
   ],
   "source": [
    "confusion_matrix(rf_best, X_train, X_val, y_val, weights, normalize=\"all\", model_name = \"Random Forest\")"
   ]
  },
  {
   "cell_type": "markdown",
   "metadata": {},
   "source": [
    "Here are the feature importances. Note that due to the nature of Random Forest, we would expect these to be less meaningful than the logistic regression coefficients as they measure the effect of splitting rather than the direct effect on probability of a feature. We also do not see whether a feature improves or decreases the chances of receiving a bachelor's degree."
   ]
  },
  {
   "cell_type": "code",
   "execution_count": 111,
   "metadata": {
    "execution": {
     "iopub.execute_input": "2020-10-30T19:27:50.097405Z",
     "iopub.status.busy": "2020-10-30T19:27:50.097157Z",
     "iopub.status.idle": "2020-10-30T19:27:50.141685Z",
     "shell.execute_reply": "2020-10-30T19:27:50.141184Z",
     "shell.execute_reply.started": "2020-10-30T19:27:50.097375Z"
    }
   },
   "outputs": [
    {
     "data": {
      "text/plain": [
       "[('wealth', 0.21076181767908614),\n",
       " ('math_score', 0.20934436297853787),\n",
       " ('reading_score', 0.16146814257575026),\n",
       " ('income', 0.16134688504069364),\n",
       " ('age', 0.09100842983320839),\n",
       " ('food_security', 0.0242518338158854),\n",
       " ('live_w_both_parents', 0.01801335428256948),\n",
       " ('environment_type_met_fringe', 0.017332349306012573),\n",
       " ('black', 0.016534099024730055),\n",
       " ('white_only', 0.01602868177052551),\n",
       " ('environment_type_met_small', 0.014112237403926055),\n",
       " ('hispanic', 0.014088399114152885),\n",
       " ('environment_type_met_central', 0.01323247362327501),\n",
       " ('environment_type_urb_met', 0.01151971665423704),\n",
       " ('environment_type_urb_nonmet', 0.007255184390912205),\n",
       " ('environment_type_rural', 0.006972057653659602),\n",
       " ('asian', 0.006729974852837819)]"
      ]
     },
     "execution_count": 111,
     "metadata": {},
     "output_type": "execute_result"
    }
   ],
   "source": [
    "rf_importances = sorted(zip(features, rf_best.feature_importances_), key=lambda x: -abs(x[1]))\n",
    "rf_importances"
   ]
  },
  {
   "cell_type": "markdown",
   "metadata": {},
   "source": [
    "### Logistic Regression Evaluation\n",
    "Now let's look at LR."
   ]
  },
  {
   "cell_type": "code",
   "execution_count": 80,
   "metadata": {
    "execution": {
     "iopub.execute_input": "2020-10-30T19:17:57.677274Z",
     "iopub.status.busy": "2020-10-30T19:17:57.677057Z",
     "iopub.status.idle": "2020-10-30T19:17:57.709316Z",
     "shell.execute_reply": "2020-10-30T19:17:57.708555Z",
     "shell.execute_reply.started": "2020-10-30T19:17:57.677250Z"
    }
   },
   "outputs": [
    {
     "name": "stdout",
     "output_type": "stream",
     "text": [
      "Classifier Params: [('n_estimators', 0.05), ('criterion', 'liblinear'), ('max_depth', 'l1'), ('min_samples_split', None)]\n",
      "Sampler: None\n",
      "Scaling: True\n",
      "fp5 Score (CV): 0.7411364255970453\n"
     ]
    }
   ],
   "source": [
    "best_lr_params = get_best_params(lr_scores, \"fp5\")\n",
    "print_best_params(best_rf_params, keywords_rf, \"fp5\")"
   ]
  },
  {
   "cell_type": "code",
   "execution_count": 93,
   "metadata": {
    "execution": {
     "iopub.execute_input": "2020-10-30T19:21:57.803847Z",
     "iopub.status.busy": "2020-10-30T19:21:57.803656Z",
     "iopub.status.idle": "2020-10-30T19:21:57.858186Z",
     "shell.execute_reply": "2020-10-30T19:21:57.857616Z",
     "shell.execute_reply.started": "2020-10-30T19:21:57.803827Z"
    }
   },
   "outputs": [
    {
     "name": "stdout",
     "output_type": "stream",
     "text": [
      "              precision    recall  f1-score   support\n",
      "\n",
      "           0       0.75      0.84      0.79 2972.9969999999976\n",
      "           1       0.73      0.60      0.66 2135.5330000000004\n",
      "\n",
      "    accuracy                           0.74 5108.529999999998\n",
      "   macro avg       0.74      0.72      0.73 5108.529999999998\n",
      "weighted avg       0.74      0.74      0.74 5108.529999999998\n",
      "\n",
      "fp5 score: 0.7319542574258807\n"
     ]
    }
   ],
   "source": [
    "y_pred_lr = lr_best.predict(prepro(X_train, X_val, scale=True)[1])\n",
    "print(metrics.classification_report(y_val, y_pred_lr, sample_weight=weights[y_val.index]))\n",
    "print(\"fp5 score:\", metrics.fbeta_score(y_val, y_pred_rf, beta=0.5, sample_weight=weights[y_val.index]))"
   ]
  },
  {
   "cell_type": "code",
   "execution_count": 97,
   "metadata": {
    "execution": {
     "iopub.execute_input": "2020-10-30T19:24:20.412515Z",
     "iopub.status.busy": "2020-10-30T19:24:20.412331Z",
     "iopub.status.idle": "2020-10-30T19:24:20.618847Z",
     "shell.execute_reply": "2020-10-30T19:24:20.618201Z",
     "shell.execute_reply.started": "2020-10-30T19:24:20.412496Z"
    }
   },
   "outputs": [
    {
     "data": {
      "image/png": "[encoded data removed]",
      "text/plain": [
       "<Figure size 720x720 with 2 Axes>"
      ]
     },
     "metadata": {},
     "output_type": "display_data"
    }
   ],
   "source": [
    "confusion_matrix(lr_best, X_train, X_val, y_val, weights, normalize=\"all\", model_name = \"Logistic Regression\")"
   ]
  },
  {
   "cell_type": "code",
   "execution_count": 108,
   "metadata": {
    "execution": {
     "iopub.execute_input": "2020-10-30T19:26:43.428931Z",
     "iopub.status.busy": "2020-10-30T19:26:43.428713Z",
     "iopub.status.idle": "2020-10-30T19:26:43.459631Z",
     "shell.execute_reply": "2020-10-30T19:26:43.459128Z",
     "shell.execute_reply.started": "2020-10-30T19:26:43.428907Z"
    }
   },
   "outputs": [
    {
     "data": {
      "text/plain": [
       "[('math_score', 0.8022618901178552),\n",
       " ('wealth', 0.7374922692848122),\n",
       " ('age', 0.524167081723923),\n",
       " ('reading_score', 0.49958200380108786),\n",
       " ('environment_type_urb_met', -0.33318645193601804),\n",
       " ('income', 0.2801956307036333),\n",
       " ('hispanic', 0.20747552695263366),\n",
       " ('environment_type_met_central', -0.18344415965184768),\n",
       " ('asian', 0.16637282858533278),\n",
       " ('environment_type_met_fringe', 0.14897489536308736),\n",
       " ('live_w_both_parents', 0.08501614485788578),\n",
       " ('food_security', -0.08404905453216234),\n",
       " ('black', -0.011645271506346217),\n",
       " ('white_only', 0.0019830556529086074),\n",
       " ('environment_type_met_small', 0.0),\n",
       " ('environment_type_rural', 0.0),\n",
       " ('environment_type_urb_nonmet', 0.0)]"
      ]
     },
     "execution_count": 108,
     "metadata": {},
     "output_type": "execute_result"
    }
   ],
   "source": [
    "lr_importances = sorted(zip(features, lr_best.coef_[0]), key=lambda x: -abs(x[1]))\n",
    "lr_importances"
   ]
  },
  {
   "cell_type": "markdown",
   "metadata": {
    "execution": {
     "iopub.execute_input": "2020-10-30T19:28:33.884114Z",
     "iopub.status.busy": "2020-10-30T19:28:33.883935Z",
     "iopub.status.idle": "2020-10-30T19:28:33.910130Z",
     "shell.execute_reply": "2020-10-30T19:28:33.909542Z",
     "shell.execute_reply.started": "2020-10-30T19:28:33.884096Z"
    }
   },
   "source": [
    "### Feature Evaluation"
   ]
  },
  {
   "cell_type": "markdown",
   "metadata": {},
   "source": [
    "Let's put the feature importances into dataframes, take the absolute value of the LR coefficients, then scale them to compare between RF and LR."
   ]
  },
  {
   "cell_type": "code",
   "execution_count": 155,
   "metadata": {
    "execution": {
     "iopub.execute_input": "2020-10-30T19:45:03.579823Z",
     "iopub.status.busy": "2020-10-30T19:45:03.579607Z",
     "iopub.status.idle": "2020-10-30T19:45:03.624197Z",
     "shell.execute_reply": "2020-10-30T19:45:03.623398Z",
     "shell.execute_reply.started": "2020-10-30T19:45:03.579799Z"
    }
   },
   "outputs": [
    {
     "data": {
      "text/html": [
       "<div>\n",
       "<style scoped>\n",
       "    .dataframe tbody tr th:only-of-type {\n",
       "        vertical-align: middle;\n",
       "    }\n",
       "\n",
       "    .dataframe tbody tr th {\n",
       "        vertical-align: top;\n",
       "    }\n",
       "\n",
       "    .dataframe thead th {\n",
       "        text-align: right;\n",
       "    }\n",
       "</style>\n",
       "<table border=\"1\" class=\"dataframe\">\n",
       "  <thead>\n",
       "    <tr style=\"text-align: right;\">\n",
       "      <th></th>\n",
       "      <th>feature</th>\n",
       "      <th>rf_imp</th>\n",
       "      <th>lr_coef</th>\n",
       "    </tr>\n",
       "  </thead>\n",
       "  <tbody>\n",
       "    <tr>\n",
       "      <th>0</th>\n",
       "      <td>wealth</td>\n",
       "      <td>2.060842</td>\n",
       "      <td>1.986338</td>\n",
       "    </tr>\n",
       "    <tr>\n",
       "      <th>1</th>\n",
       "      <td>math_score</td>\n",
       "      <td>2.041616</td>\n",
       "      <td>2.244512</td>\n",
       "    </tr>\n",
       "    <tr>\n",
       "      <th>2</th>\n",
       "      <td>reading_score</td>\n",
       "      <td>1.392238</td>\n",
       "      <td>1.038021</td>\n",
       "    </tr>\n",
       "    <tr>\n",
       "      <th>3</th>\n",
       "      <td>income</td>\n",
       "      <td>1.390594</td>\n",
       "      <td>0.163540</td>\n",
       "    </tr>\n",
       "    <tr>\n",
       "      <th>4</th>\n",
       "      <td>age</td>\n",
       "      <td>0.436546</td>\n",
       "      <td>1.136018</td>\n",
       "    </tr>\n",
       "    <tr>\n",
       "      <th>5</th>\n",
       "      <td>food_security</td>\n",
       "      <td>-0.468919</td>\n",
       "      <td>-0.618307</td>\n",
       "    </tr>\n",
       "    <tr>\n",
       "      <th>6</th>\n",
       "      <td>live_w_both_parents</td>\n",
       "      <td>-0.553536</td>\n",
       "      <td>-0.614452</td>\n",
       "    </tr>\n",
       "    <tr>\n",
       "      <th>7</th>\n",
       "      <td>environment_type_met_fringe</td>\n",
       "      <td>-0.562773</td>\n",
       "      <td>-0.359510</td>\n",
       "    </tr>\n",
       "    <tr>\n",
       "      <th>8</th>\n",
       "      <td>black</td>\n",
       "      <td>-0.573600</td>\n",
       "      <td>-0.906910</td>\n",
       "    </tr>\n",
       "    <tr>\n",
       "      <th>9</th>\n",
       "      <td>white_only</td>\n",
       "      <td>-0.580455</td>\n",
       "      <td>-0.945424</td>\n",
       "    </tr>\n",
       "    <tr>\n",
       "      <th>10</th>\n",
       "      <td>environment_type_met_small</td>\n",
       "      <td>-0.606449</td>\n",
       "      <td>-0.953329</td>\n",
       "    </tr>\n",
       "    <tr>\n",
       "      <th>11</th>\n",
       "      <td>hispanic</td>\n",
       "      <td>-0.606773</td>\n",
       "      <td>-0.126325</td>\n",
       "    </tr>\n",
       "    <tr>\n",
       "      <th>12</th>\n",
       "      <td>environment_type_met_central</td>\n",
       "      <td>-0.618382</td>\n",
       "      <td>-0.222115</td>\n",
       "    </tr>\n",
       "    <tr>\n",
       "      <th>13</th>\n",
       "      <td>environment_type_urb_met</td>\n",
       "      <td>-0.641614</td>\n",
       "      <td>0.374763</td>\n",
       "    </tr>\n",
       "    <tr>\n",
       "      <th>14</th>\n",
       "      <td>environment_type_urb_nonmet</td>\n",
       "      <td>-0.699456</td>\n",
       "      <td>-0.953329</td>\n",
       "    </tr>\n",
       "    <tr>\n",
       "      <th>15</th>\n",
       "      <td>environment_type_rural</td>\n",
       "      <td>-0.703297</td>\n",
       "      <td>-0.953329</td>\n",
       "    </tr>\n",
       "    <tr>\n",
       "      <th>16</th>\n",
       "      <td>asian</td>\n",
       "      <td>-0.706580</td>\n",
       "      <td>-0.290162</td>\n",
       "    </tr>\n",
       "  </tbody>\n",
       "</table>\n",
       "</div>"
      ],
      "text/plain": [
       "                         feature    rf_imp   lr_coef\n",
       "0                         wealth  2.060842  1.986338\n",
       "1                     math_score  2.041616  2.244512\n",
       "2                  reading_score  1.392238  1.038021\n",
       "3                         income  1.390594  0.163540\n",
       "4                            age  0.436546  1.136018\n",
       "5                  food_security -0.468919 -0.618307\n",
       "6            live_w_both_parents -0.553536 -0.614452\n",
       "7    environment_type_met_fringe -0.562773 -0.359510\n",
       "8                          black -0.573600 -0.906910\n",
       "9                     white_only -0.580455 -0.945424\n",
       "10    environment_type_met_small -0.606449 -0.953329\n",
       "11                      hispanic -0.606773 -0.126325\n",
       "12  environment_type_met_central -0.618382 -0.222115\n",
       "13      environment_type_urb_met -0.641614  0.374763\n",
       "14   environment_type_urb_nonmet -0.699456 -0.953329\n",
       "15        environment_type_rural -0.703297 -0.953329\n",
       "16                         asian -0.706580 -0.290162"
      ]
     },
     "execution_count": 155,
     "metadata": {},
     "output_type": "execute_result"
    }
   ],
   "source": [
    "rf_feats = pd.DataFrame(rf_importances, columns=[\"rf_feature\", \"rf_imp\"])\n",
    "lr_feats = pd.DataFrame(lr_importances, columns=[\"lr_feature\", \"lr_coef\"])\n",
    "both_feats = rf_feats.merge(lr_feats, left_on=[\"rf_feature\"], right_on=[\"lr_feature\"]).drop(labels=[\"lr_feature\"], axis=1).rename(columns={\"rf_feature\": \"feature\"})\n",
    "\n",
    "scaler = StandardScaler()\n",
    "both_feats[\"lr_coef\"] = np.abs(both_feats[\"lr_coef\"])\n",
    "both_feats[[\"rf_imp\",\"lr_coef\"]] = scaler.fit_transform(both_feats[[\"rf_imp\", \"lr_coef\"]])\n",
    "\n",
    "both_feats"
   ]
  },
  {
   "cell_type": "markdown",
   "metadata": {},
   "source": [
    "We can compare the releative importance assigned to features by each here. We see largely similar values, though Asian, Age, and urb_met environment type do diverge, especially the last."
   ]
  },
  {
   "cell_type": "code",
   "execution_count": 135,
   "metadata": {
    "execution": {
     "iopub.execute_input": "2020-10-30T19:37:49.831430Z",
     "iopub.status.busy": "2020-10-30T19:37:49.831241Z",
     "iopub.status.idle": "2020-10-30T19:37:49.864374Z",
     "shell.execute_reply": "2020-10-30T19:37:49.863827Z",
     "shell.execute_reply.started": "2020-10-30T19:37:49.831410Z"
    }
   },
   "outputs": [
    {
     "data": {
      "text/html": [
       "<div>\n",
       "<style scoped>\n",
       "    .dataframe tbody tr th:only-of-type {\n",
       "        vertical-align: middle;\n",
       "    }\n",
       "\n",
       "    .dataframe tbody tr th {\n",
       "        vertical-align: top;\n",
       "    }\n",
       "\n",
       "    .dataframe thead th {\n",
       "        text-align: right;\n",
       "    }\n",
       "</style>\n",
       "<table border=\"1\" class=\"dataframe\">\n",
       "  <thead>\n",
       "    <tr style=\"text-align: right;\">\n",
       "      <th></th>\n",
       "      <th>feature</th>\n",
       "      <th>rf_imp</th>\n",
       "      <th>feature</th>\n",
       "      <th>lr_coef</th>\n",
       "    </tr>\n",
       "  </thead>\n",
       "  <tbody>\n",
       "    <tr>\n",
       "      <th>0</th>\n",
       "      <td>wealth</td>\n",
       "      <td>0.210762</td>\n",
       "      <td>math_score</td>\n",
       "      <td>0.802262</td>\n",
       "    </tr>\n",
       "    <tr>\n",
       "      <th>1</th>\n",
       "      <td>math_score</td>\n",
       "      <td>0.209344</td>\n",
       "      <td>wealth</td>\n",
       "      <td>0.737492</td>\n",
       "    </tr>\n",
       "    <tr>\n",
       "      <th>2</th>\n",
       "      <td>reading_score</td>\n",
       "      <td>0.161468</td>\n",
       "      <td>age</td>\n",
       "      <td>0.524167</td>\n",
       "    </tr>\n",
       "    <tr>\n",
       "      <th>3</th>\n",
       "      <td>income</td>\n",
       "      <td>0.161347</td>\n",
       "      <td>reading_score</td>\n",
       "      <td>0.499582</td>\n",
       "    </tr>\n",
       "    <tr>\n",
       "      <th>4</th>\n",
       "      <td>age</td>\n",
       "      <td>0.091008</td>\n",
       "      <td>environment_type_urb_met</td>\n",
       "      <td>-0.333186</td>\n",
       "    </tr>\n",
       "    <tr>\n",
       "      <th>5</th>\n",
       "      <td>food_security</td>\n",
       "      <td>0.024252</td>\n",
       "      <td>income</td>\n",
       "      <td>0.280196</td>\n",
       "    </tr>\n",
       "    <tr>\n",
       "      <th>6</th>\n",
       "      <td>live_w_both_parents</td>\n",
       "      <td>0.018013</td>\n",
       "      <td>hispanic</td>\n",
       "      <td>0.207476</td>\n",
       "    </tr>\n",
       "    <tr>\n",
       "      <th>7</th>\n",
       "      <td>environment_type_met_fringe</td>\n",
       "      <td>0.017332</td>\n",
       "      <td>environment_type_met_central</td>\n",
       "      <td>-0.183444</td>\n",
       "    </tr>\n",
       "    <tr>\n",
       "      <th>8</th>\n",
       "      <td>black</td>\n",
       "      <td>0.016534</td>\n",
       "      <td>asian</td>\n",
       "      <td>0.166373</td>\n",
       "    </tr>\n",
       "    <tr>\n",
       "      <th>9</th>\n",
       "      <td>white_only</td>\n",
       "      <td>0.016029</td>\n",
       "      <td>environment_type_met_fringe</td>\n",
       "      <td>0.148975</td>\n",
       "    </tr>\n",
       "    <tr>\n",
       "      <th>10</th>\n",
       "      <td>environment_type_met_small</td>\n",
       "      <td>0.014112</td>\n",
       "      <td>live_w_both_parents</td>\n",
       "      <td>0.085016</td>\n",
       "    </tr>\n",
       "    <tr>\n",
       "      <th>11</th>\n",
       "      <td>hispanic</td>\n",
       "      <td>0.014088</td>\n",
       "      <td>food_security</td>\n",
       "      <td>-0.084049</td>\n",
       "    </tr>\n",
       "    <tr>\n",
       "      <th>12</th>\n",
       "      <td>environment_type_met_central</td>\n",
       "      <td>0.013232</td>\n",
       "      <td>black</td>\n",
       "      <td>-0.011645</td>\n",
       "    </tr>\n",
       "    <tr>\n",
       "      <th>13</th>\n",
       "      <td>environment_type_urb_met</td>\n",
       "      <td>0.011520</td>\n",
       "      <td>white_only</td>\n",
       "      <td>0.001983</td>\n",
       "    </tr>\n",
       "    <tr>\n",
       "      <th>14</th>\n",
       "      <td>environment_type_urb_nonmet</td>\n",
       "      <td>0.007255</td>\n",
       "      <td>environment_type_met_small</td>\n",
       "      <td>0.000000</td>\n",
       "    </tr>\n",
       "    <tr>\n",
       "      <th>15</th>\n",
       "      <td>environment_type_rural</td>\n",
       "      <td>0.006972</td>\n",
       "      <td>environment_type_rural</td>\n",
       "      <td>0.000000</td>\n",
       "    </tr>\n",
       "    <tr>\n",
       "      <th>16</th>\n",
       "      <td>asian</td>\n",
       "      <td>0.006730</td>\n",
       "      <td>environment_type_urb_nonmet</td>\n",
       "      <td>0.000000</td>\n",
       "    </tr>\n",
       "  </tbody>\n",
       "</table>\n",
       "</div>"
      ],
      "text/plain": [
       "                         feature    rf_imp                       feature  \\\n",
       "0                         wealth  0.210762                    math_score   \n",
       "1                     math_score  0.209344                        wealth   \n",
       "2                  reading_score  0.161468                           age   \n",
       "3                         income  0.161347                 reading_score   \n",
       "4                            age  0.091008      environment_type_urb_met   \n",
       "5                  food_security  0.024252                        income   \n",
       "6            live_w_both_parents  0.018013                      hispanic   \n",
       "7    environment_type_met_fringe  0.017332  environment_type_met_central   \n",
       "8                          black  0.016534                         asian   \n",
       "9                     white_only  0.016029   environment_type_met_fringe   \n",
       "10    environment_type_met_small  0.014112           live_w_both_parents   \n",
       "11                      hispanic  0.014088                 food_security   \n",
       "12  environment_type_met_central  0.013232                         black   \n",
       "13      environment_type_urb_met  0.011520                    white_only   \n",
       "14   environment_type_urb_nonmet  0.007255    environment_type_met_small   \n",
       "15        environment_type_rural  0.006972        environment_type_rural   \n",
       "16                         asian  0.006730   environment_type_urb_nonmet   \n",
       "\n",
       "     lr_coef  \n",
       "0   0.802262  \n",
       "1   0.737492  \n",
       "2   0.524167  \n",
       "3   0.499582  \n",
       "4  -0.333186  \n",
       "5   0.280196  \n",
       "6   0.207476  \n",
       "7  -0.183444  \n",
       "8   0.166373  \n",
       "9   0.148975  \n",
       "10  0.085016  \n",
       "11 -0.084049  \n",
       "12 -0.011645  \n",
       "13  0.001983  \n",
       "14  0.000000  \n",
       "15  0.000000  \n",
       "16  0.000000  "
      ]
     },
     "execution_count": 135,
     "metadata": {},
     "output_type": "execute_result"
    }
   ],
   "source": [
    "pd.concat([rf_feats, lr_feats], axis=1)"
   ]
  },
  {
   "cell_type": "markdown",
   "metadata": {
    "execution": {
     "iopub.execute_input": "2020-10-31T19:46:07.618187Z",
     "iopub.status.busy": "2020-10-31T19:46:07.617956Z",
     "iopub.status.idle": "2020-10-31T19:46:07.621028Z",
     "shell.execute_reply": "2020-10-31T19:46:07.620257Z",
     "shell.execute_reply.started": "2020-10-31T19:46:07.618162Z"
    }
   },
   "source": [
    "### Feature Discussion"
   ]
  },
  {
   "cell_type": "markdown",
   "metadata": {},
   "source": [
    "We see that the ordering diverges moderately, but that most of the very important features are captured by both."
   ]
  },
  {
   "cell_type": "markdown",
   "metadata": {},
   "source": [
    "Generally, we see that *wealth*, *income*, *math_score*, and *reading_score* are the most important features. Higher values for these features suggest a higher chance of receiving a bachelor's degree. \n",
    "\n",
    "As might be expected, increased age also improves the chances of receiving a degree; older people have more time to graduate from college.\n",
    "\n",
    "Living in a city near a metropolis (```urb_met```) and living in a central, highly-populated metropolis (```met_central```) decrease one's chances of going to college significantly. \n",
    "\n",
    "Race has a moderate impact, though we would caution strongly against hasty interpretations of race here. We include race as a (set of) variables in order to gauge its predictivity for a model, and to spur a discussion of algorithmic fairness and bias. See the [presentation](../presentation/project_three_slides.pdf) for further details."
   ]
  },
  {
   "cell_type": "markdown",
   "metadata": {},
   "source": [
    "### Plotting Curves"
   ]
  },
  {
   "cell_type": "code",
   "execution_count": 158,
   "metadata": {
    "execution": {
     "iopub.execute_input": "2020-10-30T19:47:19.862791Z",
     "iopub.status.busy": "2020-10-30T19:47:19.862576Z",
     "iopub.status.idle": "2020-10-30T19:47:20.181676Z",
     "shell.execute_reply": "2020-10-30T19:47:20.181004Z",
     "shell.execute_reply.started": "2020-10-30T19:47:19.862768Z"
    }
   },
   "outputs": [
    {
     "data": {
      "text/plain": [
       "<sklearn.metrics._plot.roc_curve.RocCurveDisplay at 0x7ff7d2a2daf0>"
      ]
     },
     "execution_count": 158,
     "metadata": {},
     "output_type": "execute_result"
    },
    {
     "data": {
      "image/png": "[encoded data removed]",
      "text/plain": [
       "<Figure size 432x288 with 1 Axes>"
      ]
     },
     "metadata": {},
     "output_type": "display_data"
    },
    {
     "data": {
      "image/png": "[encoded data removed]",
      "text/plain": [
       "<Figure size 432x288 with 1 Axes>"
      ]
     },
     "metadata": {},
     "output_type": "display_data"
    }
   ],
   "source": [
    "X_tr_prepro_sc, X_v_prepro_sc = prepro(X_train, X_val, scale=True)\n",
    "X_tr_prepro, X_v_prepro = prepro(X_train, X_val)\n",
    "\n",
    "sklearn.metrics.plot_precision_recall_curve(lr_best, X_v_prepro_sc, y_val)\n",
    "sklearn.metrics.plot_roc_curve(lr_best, X_v_prepro_sc, y_val)"
   ]
  },
  {
   "cell_type": "markdown",
   "metadata": {},
   "source": [
    "## Final Test Evaluation"
   ]
  },
  {
   "cell_type": "markdown",
   "metadata": {
    "execution": {
     "iopub.execute_input": "2020-10-30T19:48:24.390093Z",
     "iopub.status.busy": "2020-10-30T19:48:24.389920Z",
     "iopub.status.idle": "2020-10-30T19:48:24.416729Z",
     "shell.execute_reply": "2020-10-30T19:48:24.415893Z",
     "shell.execute_reply.started": "2020-10-30T19:48:24.390075Z"
    }
   },
   "source": [
    "We evaluate the Random Forest model that we have chosen on the previously unseen test set."
   ]
  },
  {
   "cell_type": "code",
   "execution_count": 168,
   "metadata": {
    "execution": {
     "iopub.execute_input": "2020-10-30T19:50:35.821645Z",
     "iopub.status.busy": "2020-10-30T19:50:35.821384Z",
     "iopub.status.idle": "2020-10-30T19:50:35.894320Z",
     "shell.execute_reply": "2020-10-30T19:50:35.893832Z",
     "shell.execute_reply.started": "2020-10-30T19:50:35.821612Z"
    }
   },
   "outputs": [
    {
     "name": "stdout",
     "output_type": "stream",
     "text": [
      "RF Test Scores | fp5: 0.649 | acc: 0.713 | pre: 0.670 | rec: 0.574\n"
     ]
    }
   ],
   "source": [
    "y_pred = rf_best.predict(prepro(X_train, X_test)[1])\n",
    "    \n",
    "fp5 = metrics.fbeta_score(y_test, y_pred, beta=0.5, sample_weight=weights[y_test.index])\n",
    "acc = metrics.accuracy_score(y_test, y_pred, sample_weight=weights[y_test.index])\n",
    "pre = metrics.precision_score(y_test, y_pred, sample_weight=weights[y_test.index])\n",
    "rec = metrics.recall_score(y_test, y_pred, sample_weight=weights[y_test.index])\n",
    "print(\"RF Test Scores\", \"| fp5: %.3f | acc: %.3f | pre: %.3f | rec: %.3f\" % (fp5, acc, pre, rec))"
   ]
  },
  {
   "cell_type": "markdown",
   "metadata": {},
   "source": [
    "We end with an f<sub>0.5</sub>-score of 0.649, with precision of 0.670 and recall of 0.574."
   ]
  }
 ],
 "metadata": {
  "kernelspec": {
   "display_name": "Python 3",
   "language": "python",
   "name": "python3"
  },
  "language_info": {
   "codemirror_mode": {
    "name": "ipython",
    "version": 3
   },
   "file_extension": ".py",
   "mimetype": "text/x-python",
   "name": "python",
   "nbconvert_exporter": "python",
   "pygments_lexer": "ipython3",
   "version": "3.8.2"
  },
  "toc-autonumbering": true,
  "toc-showcode": false,
  "toc-showmarkdowntxt": false
 },
 "nbformat": 4,
 "nbformat_minor": 4
}
