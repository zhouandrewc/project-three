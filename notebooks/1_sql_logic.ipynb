{
 "cells": [
  {
   "cell_type": "markdown",
   "metadata": {},
   "source": [
    "# Store Data in SQL"
   ]
  },
  {
   "cell_type": "code",
   "execution_count": 49,
   "metadata": {
    "execution": {
     "iopub.execute_input": "2020-10-31T19:11:28.849652Z",
     "iopub.status.busy": "2020-10-31T19:11:28.849430Z",
     "iopub.status.idle": "2020-10-31T19:11:28.877769Z",
     "shell.execute_reply": "2020-10-31T19:11:28.877144Z",
     "shell.execute_reply.started": "2020-10-31T19:11:28.849628Z"
    }
   },
   "outputs": [],
   "source": [
    "import pandas as pd\n",
    "import numpy as np\n",
    "import sys\n",
    "\n",
    "from os import environ\n",
    "from sqlalchemy import create_engine\n",
    "\n",
    "\n",
    "sys.path.append(\"..\")\n",
    "\n",
    "from util.parsing import get_variables"
   ]
  },
  {
   "cell_type": "markdown",
   "metadata": {},
   "source": [
    "## Find the CSV Files and Variables of Interest"
   ]
  },
  {
   "cell_type": "markdown",
   "metadata": {},
   "source": [
    "### How to Specify CSVs and Variables"
   ]
  },
  {
   "cell_type": "markdown",
   "metadata": {},
   "source": [
    "\n",
    "The ```.csv``` files, their variables of interest, and the new names for these variables are specified in [```data/processing/variables_to_extract.txt```](../data/processing/variables_to_extract.txt). See the header of this file for the format."
   ]
  },
  {
   "cell_type": "markdown",
   "metadata": {},
   "source": [
    "### Read in Data"
   ]
  },
  {
   "cell_type": "markdown",
   "metadata": {},
   "source": [
    "We grab the data from our csv files stored in [```data/csv/```](../data/csv/) and store it in our PostgreSQL database."
   ]
  },
  {
   "cell_type": "markdown",
   "metadata": {},
   "source": [
    "We construct a dictionary where the keys are the names of the ```.csv``` files and the values are dicts of the variables of interest. These dicts contain the PSID code for the variable as key and the user-renamed variable as value."
   ]
  },
  {
   "cell_type": "code",
   "execution_count": 55,
   "metadata": {
    "execution": {
     "iopub.execute_input": "2020-10-31T19:16:15.690868Z",
     "iopub.status.busy": "2020-10-31T19:16:15.690648Z",
     "iopub.status.idle": "2020-10-31T19:16:18.434573Z",
     "shell.execute_reply": "2020-10-31T19:16:18.434012Z",
     "shell.execute_reply.started": "2020-10-31T19:16:15.690844Z"
    }
   },
   "outputs": [],
   "source": [
    "table_variable_dict = get_variables(\"../data/processing/variables_to_extract.txt\")\n",
    "df_dict = {}\n",
    "\n",
    "for file, info in table_variable_dict .items():\n",
    "    sql_name = info[\"sql_name\"]\n",
    "    variables = info[\"variables\"]\n",
    "    tmp = pd.read_csv(\"../data/csv/\" + file, usecols=variables.keys()).rename(variables, axis=1)\n",
    "    df_dict[sql_name] = tmp"
   ]
  },
  {
   "cell_type": "markdown",
   "metadata": {
    "execution": {
     "iopub.execute_input": "2020-10-31T19:16:25.161619Z",
     "iopub.status.busy": "2020-10-31T19:16:25.161367Z",
     "iopub.status.idle": "2020-10-31T19:16:25.190587Z",
     "shell.execute_reply": "2020-10-31T19:16:25.189689Z",
     "shell.execute_reply.started": "2020-10-31T19:16:25.161591Z"
    }
   },
   "source": [
    "### SQL Table Names"
   ]
  },
  {
   "cell_type": "code",
   "execution_count": 57,
   "metadata": {
    "execution": {
     "iopub.execute_input": "2020-10-31T19:16:44.893323Z",
     "iopub.status.busy": "2020-10-31T19:16:44.893070Z",
     "iopub.status.idle": "2020-10-31T19:16:44.922485Z",
     "shell.execute_reply": "2020-10-31T19:16:44.921858Z",
     "shell.execute_reply.started": "2020-10-31T19:16:44.893294Z"
    }
   },
   "outputs": [
    {
     "data": {
      "text/plain": [
       "['fam01',\n",
       " 'ind17',\n",
       " 'child02',\n",
       " 'pcg02',\n",
       " 'wlth01',\n",
       " 'assess',\n",
       " 'demog',\n",
       " 'ta17',\n",
       " 'cah']"
      ]
     },
     "execution_count": 57,
     "metadata": {},
     "output_type": "execute_result"
    }
   ],
   "source": [
    "list(df_dict.keys())"
   ]
  },
  {
   "cell_type": "markdown",
   "metadata": {},
   "source": [
    "## Write with SQLAlchemy and Pandas"
   ]
  },
  {
   "cell_type": "markdown",
   "metadata": {},
   "source": [
    "Connect to PostgreSQL using SQLAlchemy. The user must specify the uri of an existing PostgreSQL database. The current URI is hardcoded in and must be changed to work for other users."
   ]
  },
  {
   "cell_type": "code",
   "execution_count": 58,
   "metadata": {
    "execution": {
     "iopub.execute_input": "2020-10-31T19:16:54.951590Z",
     "iopub.status.busy": "2020-10-31T19:16:54.951339Z",
     "iopub.status.idle": "2020-10-31T19:16:54.980614Z",
     "shell.execute_reply": "2020-10-31T19:16:54.979916Z",
     "shell.execute_reply.started": "2020-10-31T19:16:54.951563Z"
    }
   },
   "outputs": [],
   "source": [
    "uri = \"postgres+psycopg2://zhou@localhost:5432/psid\"\n",
    "engine = create_engine(uri, echo=False)"
   ]
  },
  {
   "cell_type": "markdown",
   "metadata": {
    "execution": {
     "iopub.execute_input": "2020-10-31T18:46:40.690946Z",
     "iopub.status.busy": "2020-10-31T18:46:40.690778Z",
     "iopub.status.idle": "2020-10-31T18:46:40.694266Z",
     "shell.execute_reply": "2020-10-31T18:46:40.693437Z",
     "shell.execute_reply.started": "2020-10-31T18:46:40.690928Z"
    }
   },
   "source": [
    "Write each dataframe into our SQL database."
   ]
  },
  {
   "cell_type": "code",
   "execution_count": 53,
   "metadata": {
    "execution": {
     "iopub.execute_input": "2020-10-31T19:14:28.630822Z",
     "iopub.status.busy": "2020-10-31T19:14:28.630583Z",
     "iopub.status.idle": "2020-10-31T19:15:32.992092Z",
     "shell.execute_reply": "2020-10-31T19:15:32.991277Z",
     "shell.execute_reply.started": "2020-10-31T19:14:28.630798Z"
    }
   },
   "outputs": [],
   "source": [
    "for sql_name, df in df_dict.items():\n",
    "    df.to_sql(sql_name, con=engine, if_exists=\"replace\")"
   ]
  },
  {
   "cell_type": "code",
   "execution_count": null,
   "metadata": {},
   "outputs": [],
   "source": []
  }
 ],
 "metadata": {
  "kernelspec": {
   "display_name": "Python 3",
   "language": "python",
   "name": "python3"
  },
  "language_info": {
   "codemirror_mode": {
    "name": "ipython",
    "version": 3
   },
   "file_extension": ".py",
   "mimetype": "text/x-python",
   "name": "python",
   "nbconvert_exporter": "python",
   "pygments_lexer": "ipython3",
   "version": "3.8.2"
  }
 },
 "nbformat": 4,
 "nbformat_minor": 4
}
