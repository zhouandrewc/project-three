{
 "cells": [
  {
   "cell_type": "code",
   "execution_count": 11,
   "metadata": {
    "execution": {
     "iopub.execute_input": "2020-10-30T21:45:14.206741Z",
     "iopub.status.busy": "2020-10-30T21:45:14.206528Z",
     "iopub.status.idle": "2020-10-30T21:45:14.210927Z",
     "shell.execute_reply": "2020-10-30T21:45:14.210256Z",
     "shell.execute_reply.started": "2020-10-30T21:45:14.206719Z"
    }
   },
   "outputs": [],
   "source": [
    "import pandas as pd\n",
    "import numpy as np\n",
    "import sys\n",
    "\n",
    "sys.path.append('data/processing')\n",
    "\n",
    "from utilities import get_variables\n",
    "\n",
    "import seaborn as sns\n",
    "\n",
    "from sklearn.experimental import enable_iterative_imputer\n",
    "from sklearn.impute import IterativeImputer\n",
    "from sklearn.ensemble import RandomForestRegressor\n",
    "\n",
    "\n",
    "from util.cleaning import agg_race_cah, agg_hispanicity, filter_na_response, has_bachelors, get_race, get_race_ta17, is_hispanic_cah, get_env_type, get_region, live_w_both_parents, is_race"
   ]
  },
  {
   "cell_type": "code",
   "execution_count": 12,
   "metadata": {
    "execution": {
     "iopub.execute_input": "2020-10-30T21:45:14.582121Z",
     "iopub.status.busy": "2020-10-30T21:45:14.581906Z",
     "iopub.status.idle": "2020-10-30T21:45:14.585467Z",
     "shell.execute_reply": "2020-10-30T21:45:14.584845Z",
     "shell.execute_reply.started": "2020-10-30T21:45:14.582098Z"
    }
   },
   "outputs": [],
   "source": [
    "from os import environ\n",
    "from sqlalchemy import create_engine\n",
    "\n",
    "uri = \"postgres+psycopg2://zhou@localhost:5432/psid\"\n",
    "engine = create_engine(uri, echo=False)"
   ]
  },
  {
   "cell_type": "markdown",
   "metadata": {
    "execution": {
     "iopub.execute_input": "2020-10-30T19:58:38.613431Z",
     "iopub.status.busy": "2020-10-30T19:58:38.613203Z",
     "iopub.status.idle": "2020-10-30T19:58:38.617025Z",
     "shell.execute_reply": "2020-10-30T19:58:38.616127Z",
     "shell.execute_reply.started": "2020-10-30T19:58:38.613407Z"
    }
   },
   "source": [
    "```sql\n",
    "SELECT * from ind17 \n",
    "LEFT JOIN child02 on child02.indid01=ind17.indid01 AND child02.famid01=ind17.famid01 \n",
    "LEFT JOIN assess ON assess.indid01 = ind17.indid01 AND assess.famid01=ind17.famid01 \n",
    "LEFT JOIN demog ON demog.indid01 = ind17.indid01 AND demog.famid01=ind17.famid01 \n",
    "LEFT JOIN fam01 ON fam01.indid01 = ind17.indid01 AND fam01.famid68=ind17.famid68\n",
    "WHERE ind17.indid01<>0 AND ind17.cds_interview=1\n",
    "```"
   ]
  },
  {
   "cell_type": "code",
   "execution_count": 13,
   "metadata": {
    "execution": {
     "iopub.execute_input": "2020-10-30T21:45:15.211186Z",
     "iopub.status.busy": "2020-10-30T21:45:15.210974Z",
     "iopub.status.idle": "2020-10-30T21:45:15.422109Z",
     "shell.execute_reply": "2020-10-30T21:45:15.421545Z",
     "shell.execute_reply.started": "2020-10-30T21:45:15.211165Z"
    }
   },
   "outputs": [],
   "source": [
    "sql_get_join_data = \"SELECT * FROM ind17 \\\n",
    "LEFT JOIN child02 on child02.indid01 = ind17.indid01 AND child02.famid01 = ind17.famid01 \\\n",
    "LEFT JOIN assess ON assess.indid01 = ind17.indid01 AND assess.famid01 = ind17.famid01 \\\n",
    "LEFT JOIN demog ON demog.indid01 = ind17.indid01 AND demog.famid01 = ind17.famid01 \\\n",
    "LEFT JOIN fam01 ON fam01.famid01 = ind17.famid01 AND fam01.famid68 = ind17.famid68 \\\n",
    "LEFT JOIN ta17 ON ta17.famid17 = ind17.famid17 AND ta17.indid17 = ind17.indid17 \\\n",
    "LEFT JOIN fam_map ON fam_map.famid68 = ind17.famid68 AND fam_map.indid68 = ind17.indid68 \\\n",
    "LEFT JOIN pcg02 ON pcg02.famid01 = ind17.famid01 AND pcg02.indid01 = ind17.indid01 \\\n",
    "LEFT JOIN wlth01 ON wlth01.famid01 = ind17.famid01 \\\n",
    "WHERE ind17.indid01<>0 AND ind17.cds_interview=1\"\n",
    "\n",
    "prelim_data_df = pd.read_sql_query(sql_get_join_data, con=engine)"
   ]
  },
  {
   "cell_type": "code",
   "execution_count": 14,
   "metadata": {
    "execution": {
     "iopub.execute_input": "2020-10-30T21:45:15.572563Z",
     "iopub.status.busy": "2020-10-30T21:45:15.572346Z",
     "iopub.status.idle": "2020-10-30T21:45:15.576674Z",
     "shell.execute_reply": "2020-10-30T21:45:15.576026Z",
     "shell.execute_reply.started": "2020-10-30T21:45:15.572540Z"
    }
   },
   "outputs": [],
   "source": [
    "prelim_data_df = prelim_data_df.loc[:,~prelim_data_df.columns.duplicated()]"
   ]
  },
  {
   "cell_type": "code",
   "execution_count": 15,
   "metadata": {
    "execution": {
     "iopub.execute_input": "2020-10-30T21:45:15.976936Z",
     "iopub.status.busy": "2020-10-30T21:45:15.976725Z",
     "iopub.status.idle": "2020-10-30T21:45:19.087606Z",
     "shell.execute_reply": "2020-10-30T21:45:19.086974Z",
     "shell.execute_reply.started": "2020-10-30T21:45:15.976914Z"
    }
   },
   "outputs": [],
   "source": [
    "get_cah = \"SELECT * FROM cah\"\n",
    "cah_data_df = pd.read_sql_query(get_cah, con=engine)\n",
    "# aggregate properly\n",
    "cah_data_df_grouped = cah_data_df.groupby([\"famid68\", \"indid68\"]).agg({\n",
    "    \"hispanicity\": agg_hispanicity,\n",
    "    \"race_code_cah_1\": agg_race_cah,\n",
    "    \"race_code_cah_2\": agg_race_cah,\n",
    "    \"race_code_cah_3\": agg_race_cah\n",
    "}).reset_index()"
   ]
  },
  {
   "cell_type": "code",
   "execution_count": 16,
   "metadata": {
    "execution": {
     "iopub.execute_input": "2020-10-30T21:45:19.088970Z",
     "iopub.status.busy": "2020-10-30T21:45:19.088806Z",
     "iopub.status.idle": "2020-10-30T21:45:19.110481Z",
     "shell.execute_reply": "2020-10-30T21:45:19.109890Z",
     "shell.execute_reply.started": "2020-10-30T21:45:19.088951Z"
    }
   },
   "outputs": [],
   "source": [
    "data_df = prelim_data_df.merge(cah_data_df_grouped, on=[\"famid68\", \"indid68\"], how=\"left\")"
   ]
  },
  {
   "cell_type": "code",
   "execution_count": 17,
   "metadata": {
    "execution": {
     "iopub.execute_input": "2020-10-30T21:45:20.072654Z",
     "iopub.status.busy": "2020-10-30T21:45:20.072440Z",
     "iopub.status.idle": "2020-10-30T21:45:20.243941Z",
     "shell.execute_reply": "2020-10-30T21:45:20.243439Z",
     "shell.execute_reply.started": "2020-10-30T21:45:20.072632Z"
    }
   },
   "outputs": [],
   "source": [
    "data_df = data_df[data_df.apply(filter_na_response, axis=1)]"
   ]
  },
  {
   "cell_type": "code",
   "execution_count": 18,
   "metadata": {
    "execution": {
     "iopub.execute_input": "2020-10-30T21:45:20.276148Z",
     "iopub.status.busy": "2020-10-30T21:45:20.275931Z",
     "iopub.status.idle": "2020-10-30T21:45:20.620229Z",
     "shell.execute_reply": "2020-10-30T21:45:20.619641Z",
     "shell.execute_reply.started": "2020-10-30T21:45:20.276125Z"
    }
   },
   "outputs": [],
   "source": [
    "\n",
    "data_df[\"race_code_cah_1\"] = data_df[\"race_code_cah_1\"].apply(lambda x: x if not x else [])\n",
    "data_df[\"race_code_cah_2\"] = data_df[\"race_code_cah_2\"].apply(lambda x: x if not x else [])\n",
    "data_df[\"race_code_cah_3\"] = data_df[\"race_code_cah_3\"].apply(lambda x: x if not x else [])\n",
    "\n",
    "data_df[\"race\"] = data_df[\"race_code\"].apply(get_race)\n",
    "data_df[\"race17_1\"] = data_df[\"race_code17_1\"].apply(get_race_ta17)\n",
    "data_df[\"race17_2\"] = data_df[\"race_code17_2\"].apply(get_race_ta17)\n",
    "\n",
    "data_df[\"asian\"] = data_df.apply(is_race(\"asian\"), axis=1)\n",
    "data_df[\"black\"] = data_df.apply(is_race(\"black\"), axis=1)\n",
    "data_df[\"white\"] = data_df.apply(is_race(\"white\"), axis=1)\n",
    "data_df[\"hispanic\"] = data_df.apply(lambda row: 1 if is_race(\"hispanic\")(row) or row[\"hispanicity\"] else 0, axis=1)\n",
    "\n",
    "data_df[\"white_only\"] = data_df.apply(lambda row: 1 if row[\"white\"] == 1 and row[\"hispanic\"] == 0 and row[\"black\"] == 0 and row[\"asian\"] == 0 else 0, axis=1)\n",
    "\n",
    "data_df[\"live_w_both_parents\"] = data_df.apply(live_w_both_parents, axis=1)\n",
    "data_df[\"environment_type\"] = data_df[\"rural_urban_code01\"].apply(get_env_type)\n",
    "data_df[\"region\"] = data_df[\"geo_region_code01\"].apply(get_region)\n",
    "\n",
    "data_df[\"age\"] = data_df[\"age_01\"] + 16\n",
    "\n",
    "data_df[\"grad_bach\"] = data_df.apply(has_bachelors, axis=1).map({True: 1, False: 0})"
   ]
  },
  {
   "cell_type": "code",
   "execution_count": 19,
   "metadata": {
    "execution": {
     "iopub.execute_input": "2020-10-30T21:45:20.657338Z",
     "iopub.status.busy": "2020-10-30T21:45:20.657144Z",
     "iopub.status.idle": "2020-10-30T21:45:20.667160Z",
     "shell.execute_reply": "2020-10-30T21:45:20.666551Z",
     "shell.execute_reply.started": "2020-10-30T21:45:20.657317Z"
    }
   },
   "outputs": [],
   "source": [
    "# Handle income outliers by capping income and wealth at +2 std for now\n",
    "inc_cap = data_df[\"total_fam_income00\"].mean() + 2*data_df[\"total_fam_income00\"].std()\n",
    "data_df[\"total_fam_income00_cap\"] = data_df[\"total_fam_income00\"].clip(upper=inc_cap)\n",
    "wealth_cap = data_df[\"wealth_w_equity01\"].mean() + 2*data_df[\"wealth_w_equity01\"].std()\n",
    "data_df[\"wealth_w_equity01_cap\"] = data_df[\"wealth_w_equity01\"].clip(upper=wealth_cap)\n",
    "data_df = data_df.replace({\"math_score02\": 999, \"reading_score02\": 999}, np.nan)"
   ]
  },
  {
   "cell_type": "code",
   "execution_count": 20,
   "metadata": {
    "execution": {
     "iopub.execute_input": "2020-10-30T21:45:21.242285Z",
     "iopub.status.busy": "2020-10-30T21:45:21.242070Z",
     "iopub.status.idle": "2020-10-30T21:45:22.729019Z",
     "shell.execute_reply": "2020-10-30T21:45:22.728469Z",
     "shell.execute_reply.started": "2020-10-30T21:45:21.242263Z"
    }
   },
   "outputs": [],
   "source": [
    "# Use income and wealth, our primary continuous variables, to impute math and reading scores\n",
    "data_df = data_df.replace({\"math_score02\": 999, \"reading_score02\": 999}, np.nan)\n",
    "temp_impute_df = data_df[[\"math_score02\", \"reading_score02\", \"wealth_w_equity01_cap\", \"total_fam_income00_cap\"]]\n",
    "\n",
    "imp = IterativeImputer(random_state=0, estimator=RandomForestRegressor())\n",
    "data_df_imputed = pd.DataFrame(imp.fit_transform(temp_impute_df), index=temp_impute_df.index, columns=temp_impute_df.columns)"
   ]
  },
  {
   "cell_type": "code",
   "execution_count": 21,
   "metadata": {
    "execution": {
     "iopub.execute_input": "2020-10-30T21:45:22.730290Z",
     "iopub.status.busy": "2020-10-30T21:45:22.730121Z",
     "iopub.status.idle": "2020-10-30T21:45:22.736517Z",
     "shell.execute_reply": "2020-10-30T21:45:22.735874Z",
     "shell.execute_reply.started": "2020-10-30T21:45:22.730270Z"
    }
   },
   "outputs": [],
   "source": [
    "data_df = data_df[~data_df[\"environment_type\"].isnull()]\n",
    "data_df = data_df[data_df[\"age\"] >= 22]"
   ]
  },
  {
   "cell_type": "code",
   "execution_count": 22,
   "metadata": {
    "execution": {
     "iopub.execute_input": "2020-10-30T21:45:22.738234Z",
     "iopub.status.busy": "2020-10-30T21:45:22.738047Z",
     "iopub.status.idle": "2020-10-30T21:45:22.744226Z",
     "shell.execute_reply": "2020-10-30T21:45:22.743501Z",
     "shell.execute_reply.started": "2020-10-30T21:45:22.738214Z"
    }
   },
   "outputs": [],
   "source": [
    "data_df[[\"math_score02\", \"reading_score02\", \"wealth_w_equity01_cap\", \"total_fam_income00_cap\"]] = data_df_imputed[[\"math_score02\", \"reading_score02\", \"wealth_w_equity01_cap\", \"total_fam_income00_cap\"]]"
   ]
  },
  {
   "cell_type": "code",
   "execution_count": 23,
   "metadata": {
    "execution": {
     "iopub.execute_input": "2020-10-30T21:45:22.745655Z",
     "iopub.status.busy": "2020-10-30T21:45:22.745466Z",
     "iopub.status.idle": "2020-10-30T21:45:22.749541Z",
     "shell.execute_reply": "2020-10-30T21:45:22.748868Z",
     "shell.execute_reply.started": "2020-10-30T21:45:22.745634Z"
    }
   },
   "outputs": [],
   "source": [
    "data_df = data_df.rename({\"math_score02\": \"math_score\", \"reading_score02\": \"reading_score\",\\\n",
    "                    \"wealth_w_equity01_cap\": \"wealth\", \"total_fam_income00_cap\": \"income\"}, axis=1)"
   ]
  },
  {
   "cell_type": "code",
   "execution_count": 24,
   "metadata": {
    "execution": {
     "iopub.execute_input": "2020-10-30T21:45:23.065670Z",
     "iopub.status.busy": "2020-10-30T21:45:23.065455Z",
     "iopub.status.idle": "2020-10-30T21:45:23.069969Z",
     "shell.execute_reply": "2020-10-30T21:45:23.069338Z",
     "shell.execute_reply.started": "2020-10-30T21:45:23.065648Z"
    }
   },
   "outputs": [],
   "source": [
    "data_df = data_df[['math_score', 'reading_score', 'wealth', 'income', 'grad_bach', 'survey_weight', 'environment_type', 'age', 'white_only', 'black', 'asian', 'live_w_both_parents', 'food_security', 'hispanic']]"
   ]
  },
  {
   "cell_type": "code",
   "execution_count": 25,
   "metadata": {
    "execution": {
     "iopub.execute_input": "2020-10-30T21:45:23.784641Z",
     "iopub.status.busy": "2020-10-30T21:45:23.784422Z",
     "iopub.status.idle": "2020-10-30T21:45:23.804077Z",
     "shell.execute_reply": "2020-10-30T21:45:23.803503Z",
     "shell.execute_reply.started": "2020-10-30T21:45:23.784617Z"
    }
   },
   "outputs": [],
   "source": [
    "data_df.to_csv(\"data_2.csv\", index=False)"
   ]
  }
 ],
 "metadata": {
  "kernelspec": {
   "display_name": "Python 3",
   "language": "python",
   "name": "python3"
  },
  "language_info": {
   "codemirror_mode": {
    "name": "ipython",
    "version": 3
   },
   "file_extension": ".py",
   "mimetype": "text/x-python",
   "name": "python",
   "nbconvert_exporter": "python",
   "pygments_lexer": "ipython3",
   "version": "3.8.2"
  }
 },
 "nbformat": 4,
 "nbformat_minor": 4
}
